{
 "cells": [
  {
   "cell_type": "code",
   "execution_count": 1,
   "metadata": {},
   "outputs": [],
   "source": [
    "import numpy as np\n",
    "import pandas as pd\n",
    "\n",
    "header = ['EVENTTIMESTAMP2','SERIAL_NUMBER', 'CODE', 'AS_CONFIG_ID','SW_VERSION_SRS']\n",
    "data = pd.read_csv('/users/user/Desktop/Simensproject/eventdata.csv', usecols = header, nrows = 14000000)\n"
   ]
  },
  {
   "cell_type": "code",
   "execution_count": 2,
   "metadata": {},
   "outputs": [
    {
     "data": {
      "text/html": [
       "<div>\n",
       "<style scoped>\n",
       "    .dataframe tbody tr th:only-of-type {\n",
       "        vertical-align: middle;\n",
       "    }\n",
       "\n",
       "    .dataframe tbody tr th {\n",
       "        vertical-align: top;\n",
       "    }\n",
       "\n",
       "    .dataframe thead th {\n",
       "        text-align: right;\n",
       "    }\n",
       "</style>\n",
       "<table border=\"1\" class=\"dataframe\">\n",
       "  <thead>\n",
       "    <tr style=\"text-align: right;\">\n",
       "      <th></th>\n",
       "      <th>EVENTTIMESTAMP2</th>\n",
       "      <th>SERIAL_NUMBER</th>\n",
       "      <th>CODE</th>\n",
       "      <th>AS_CONFIG_ID</th>\n",
       "      <th>SW_VERSION_SRS</th>\n",
       "    </tr>\n",
       "  </thead>\n",
       "  <tbody>\n",
       "    <tr>\n",
       "      <th>count</th>\n",
       "      <td>14000000</td>\n",
       "      <td>14000000</td>\n",
       "      <td>10552610</td>\n",
       "      <td>13616376</td>\n",
       "      <td>13554673</td>\n",
       "    </tr>\n",
       "    <tr>\n",
       "      <th>unique</th>\n",
       "      <td>9659479</td>\n",
       "      <td>2146</td>\n",
       "      <td>1614</td>\n",
       "      <td>624</td>\n",
       "      <td>10</td>\n",
       "    </tr>\n",
       "    <tr>\n",
       "      <th>top</th>\n",
       "      <td>2019-10-30 14:00:00.010</td>\n",
       "      <td>SP00240</td>\n",
       "      <td>05 002 02 01</td>\n",
       "      <td>AS_SP00410_SSIII</td>\n",
       "      <td>1.20.1.3451002</td>\n",
       "    </tr>\n",
       "    <tr>\n",
       "      <th>freq</th>\n",
       "      <td>30</td>\n",
       "      <td>91341</td>\n",
       "      <td>1071486</td>\n",
       "      <td>143155</td>\n",
       "      <td>7563685</td>\n",
       "    </tr>\n",
       "  </tbody>\n",
       "</table>\n",
       "</div>"
      ],
      "text/plain": [
       "                EVENTTIMESTAMP2 SERIAL_NUMBER          CODE      AS_CONFIG_ID  \\\n",
       "count                  14000000      14000000      10552610          13616376   \n",
       "unique                  9659479          2146          1614               624   \n",
       "top     2019-10-30 14:00:00.010       SP00240  05 002 02 01  AS_SP00410_SSIII   \n",
       "freq                         30         91341       1071486            143155   \n",
       "\n",
       "        SW_VERSION_SRS  \n",
       "count         13554673  \n",
       "unique              10  \n",
       "top     1.20.1.3451002  \n",
       "freq           7563685  "
      ]
     },
     "execution_count": 2,
     "metadata": {},
     "output_type": "execute_result"
    }
   ],
   "source": [
    "data.describe()"
   ]
  },
  {
   "cell_type": "code",
   "execution_count": 3,
   "metadata": {},
   "outputs": [],
   "source": [
    "# Changing Time value into datetime object\n",
    "import time\n",
    "data['EVENTTIMESTAMP2'] = data['EVENTTIMESTAMP2'].map(lambda name: time.strptime(name,'%Y-%m-%d %H:%M:%S.%f'))"
   ]
  },
  {
   "cell_type": "code",
   "execution_count": 4,
   "metadata": {},
   "outputs": [],
   "source": [
    "# Removing rows where Code is NaN\n",
    "data = data.dropna(subset=['CODE'])"
   ]
  },
  {
   "cell_type": "code",
   "execution_count": 5,
   "metadata": {},
   "outputs": [
    {
     "data": {
      "text/plain": [
       "EVENTTIMESTAMP2         0\n",
       "SERIAL_NUMBER           0\n",
       "CODE                    0\n",
       "AS_CONFIG_ID       340586\n",
       "SW_VERSION_SRS     355092\n",
       "dtype: int64"
      ]
     },
     "execution_count": 5,
     "metadata": {},
     "output_type": "execute_result"
    }
   ],
   "source": [
    "data.isna().sum()"
   ]
  },
  {
   "cell_type": "code",
   "execution_count": 9,
   "metadata": {},
   "outputs": [],
   "source": [
    "data['SW_VERSION_SRS'] =  data['SW_VERSION_SRS'].str.contains('1.18&SP3', regex=False, na = True)"
   ]
  },
  {
   "cell_type": "code",
   "execution_count": 11,
   "metadata": {},
   "outputs": [
    {
     "data": {
      "text/plain": [
       "1           False\n",
       "2           False\n",
       "3           False\n",
       "4           False\n",
       "5           False\n",
       "6            True\n",
       "7           False\n",
       "8           False\n",
       "10          False\n",
       "12          False\n",
       "14          False\n",
       "15          False\n",
       "17          False\n",
       "19          False\n",
       "21          False\n",
       "24          False\n",
       "26          False\n",
       "30          False\n",
       "31          False\n",
       "32          False\n",
       "33          False\n",
       "35          False\n",
       "37          False\n",
       "39          False\n",
       "40          False\n",
       "41          False\n",
       "43          False\n",
       "44          False\n",
       "45          False\n",
       "47          False\n",
       "            ...  \n",
       "13999964    False\n",
       "13999965    False\n",
       "13999966    False\n",
       "13999967    False\n",
       "13999968    False\n",
       "13999969    False\n",
       "13999970    False\n",
       "13999971     True\n",
       "13999972    False\n",
       "13999973    False\n",
       "13999974    False\n",
       "13999976    False\n",
       "13999977    False\n",
       "13999978    False\n",
       "13999979    False\n",
       "13999980    False\n",
       "13999981    False\n",
       "13999983    False\n",
       "13999984    False\n",
       "13999986    False\n",
       "13999988    False\n",
       "13999989    False\n",
       "13999990     True\n",
       "13999991    False\n",
       "13999992    False\n",
       "13999993    False\n",
       "13999994    False\n",
       "13999995    False\n",
       "13999997     True\n",
       "13999998    False\n",
       "Name: SW_VERSION_SRS, Length: 10552610, dtype: bool"
      ]
     },
     "execution_count": 11,
     "metadata": {},
     "output_type": "execute_result"
    }
   ],
   "source": [
    "data['SW_VERSION_SRS']"
   ]
  },
  {
   "cell_type": "code",
   "execution_count": 15,
   "metadata": {},
   "outputs": [],
   "source": [
    "# Dropping clumns with <18SP3\n",
    "indexname = data[data['SW_VERSION_SRS']==True].index\n",
    "data.drop(indexname, inplace = True)"
   ]
  },
  {
   "cell_type": "code",
   "execution_count": 16,
   "metadata": {},
   "outputs": [],
   "source": [
    "# Dropping Software Column\n",
    "data.drop(columns = ['SW_VERSION_SRS'], inplace = True)"
   ]
  },
  {
   "cell_type": "code",
   "execution_count": 17,
   "metadata": {},
   "outputs": [],
   "source": [
    "#Sorting the data by Timestamp column\n",
    "data = data.sort_values(by=['EVENTTIMESTAMP2'])"
   ]
  },
  {
   "cell_type": "code",
   "execution_count": 18,
   "metadata": {},
   "outputs": [],
   "source": [
    "# MAKING GROUPS BY CONFIG ID\n",
    "group = data.groupby('AS_CONFIG_ID')\n",
    "\n",
    "# Here, the data has been grouped by 'AS_CONFIG_ID' ,\n",
    "# It is now a groupby object. Each Machine can be extracted from the group and worked upon."
   ]
  },
  {
   "cell_type": "code",
   "execution_count": 19,
   "metadata": {},
   "outputs": [],
   "source": [
    "# Saving a pickle file\n",
    "import pickle\n",
    "\n",
    "with open('group.pickle', 'wb') as pandaobject:\n",
    "    pickle.dump(group, pandaobject, protocol=pickle.HIGHEST_PROTOCOL)\n"
   ]
  },
  {
   "cell_type": "code",
   "execution_count": 21,
   "metadata": {},
   "outputs": [
    {
     "name": "stdout",
     "output_type": "stream",
     "text": [
      "False\n"
     ]
    }
   ],
   "source": [
    "### LOADING THE FILE\n",
    "\n",
    "with open('group.pickle', 'rb') as pandaobject:\n",
    "    b = pickle.load(pandaobject)\n",
    "\n",
    "print(b==group)"
   ]
  },
  {
   "cell_type": "code",
   "execution_count": null,
   "metadata": {},
   "outputs": [],
   "source": []
  },
  {
   "cell_type": "code",
   "execution_count": 21,
   "metadata": {},
   "outputs": [
    {
     "data": {
      "text/plain": [
       "624"
      ]
     },
     "execution_count": 21,
     "metadata": {},
     "output_type": "execute_result"
    }
   ],
   "source": [
    "# Number of Groups\n",
    "len(group)\n"
   ]
  },
  {
   "cell_type": "code",
   "execution_count": 23,
   "metadata": {},
   "outputs": [
    {
     "data": {
      "text/html": [
       "<div>\n",
       "<style scoped>\n",
       "    .dataframe tbody tr th:only-of-type {\n",
       "        vertical-align: middle;\n",
       "    }\n",
       "\n",
       "    .dataframe tbody tr th {\n",
       "        vertical-align: top;\n",
       "    }\n",
       "\n",
       "    .dataframe thead th {\n",
       "        text-align: right;\n",
       "    }\n",
       "</style>\n",
       "<table border=\"1\" class=\"dataframe\">\n",
       "  <thead>\n",
       "    <tr style=\"text-align: right;\">\n",
       "      <th></th>\n",
       "      <th>EVENTTIMESTAMP2</th>\n",
       "      <th>SERIAL_NUMBER</th>\n",
       "      <th>CODE</th>\n",
       "      <th>AS_CONFIG_ID</th>\n",
       "    </tr>\n",
       "  </thead>\n",
       "  <tbody>\n",
       "    <tr>\n",
       "      <th>17177</th>\n",
       "      <td>(2019, 10, 30, 1, 40, 22, 2, 303, -1)</td>\n",
       "      <td>DL00120</td>\n",
       "      <td>00 800 60 07</td>\n",
       "      <td>AS_DL00120_DlI</td>\n",
       "    </tr>\n",
       "    <tr>\n",
       "      <th>5772780</th>\n",
       "      <td>(2019, 10, 30, 1, 40, 22, 2, 303, -1)</td>\n",
       "      <td>DL00120</td>\n",
       "      <td>00 800 60 07</td>\n",
       "      <td>AS_DL00120_DlI</td>\n",
       "    </tr>\n",
       "    <tr>\n",
       "      <th>7508403</th>\n",
       "      <td>(2019, 10, 30, 1, 40, 23, 2, 303, -1)</td>\n",
       "      <td>DL00120</td>\n",
       "      <td>00 800 60 07</td>\n",
       "      <td>AS_DL00120_DlI</td>\n",
       "    </tr>\n",
       "    <tr>\n",
       "      <th>3158925</th>\n",
       "      <td>(2019, 10, 30, 1, 40, 23, 2, 303, -1)</td>\n",
       "      <td>DL00120</td>\n",
       "      <td>00 800 60 07</td>\n",
       "      <td>AS_DL00120_DlI</td>\n",
       "    </tr>\n",
       "    <tr>\n",
       "      <th>5252084</th>\n",
       "      <td>(2019, 10, 30, 5, 31, 32, 2, 303, -1)</td>\n",
       "      <td>DL00120</td>\n",
       "      <td>00 700 15 08</td>\n",
       "      <td>AS_DL00120_DlI</td>\n",
       "    </tr>\n",
       "    <tr>\n",
       "      <th>2943368</th>\n",
       "      <td>(2019, 10, 30, 7, 0, 2, 2, 303, -1)</td>\n",
       "      <td>DL00120</td>\n",
       "      <td>00 700 30 01</td>\n",
       "      <td>AS_DL00120_DlI</td>\n",
       "    </tr>\n",
       "    <tr>\n",
       "      <th>7417687</th>\n",
       "      <td>(2019, 10, 30, 8, 0, 2, 2, 303, -1)</td>\n",
       "      <td>DL00120</td>\n",
       "      <td>00 700 00 01</td>\n",
       "      <td>AS_DL00120_DlI</td>\n",
       "    </tr>\n",
       "    <tr>\n",
       "      <th>5041254</th>\n",
       "      <td>(2019, 10, 30, 8, 0, 2, 2, 303, -1)</td>\n",
       "      <td>DL00120</td>\n",
       "      <td>00 700 00 01</td>\n",
       "      <td>AS_DL00120_DlI</td>\n",
       "    </tr>\n",
       "    <tr>\n",
       "      <th>2215691</th>\n",
       "      <td>(2019, 10, 30, 8, 0, 2, 2, 303, -1)</td>\n",
       "      <td>DL00120</td>\n",
       "      <td>00 700 00 01</td>\n",
       "      <td>AS_DL00120_DlI</td>\n",
       "    </tr>\n",
       "    <tr>\n",
       "      <th>4934831</th>\n",
       "      <td>(2019, 10, 30, 8, 0, 6, 2, 303, -1)</td>\n",
       "      <td>DL00120</td>\n",
       "      <td>00 700 30 08</td>\n",
       "      <td>AS_DL00120_DlI</td>\n",
       "    </tr>\n",
       "    <tr>\n",
       "      <th>1242919</th>\n",
       "      <td>(2019, 10, 30, 8, 30, 11, 2, 303, -1)</td>\n",
       "      <td>IH00171</td>\n",
       "      <td>03 600 00 47</td>\n",
       "      <td>AS_DL00120_DlI</td>\n",
       "    </tr>\n",
       "    <tr>\n",
       "      <th>3647992</th>\n",
       "      <td>(2019, 10, 30, 8, 30, 11, 2, 303, -1)</td>\n",
       "      <td>IH00171</td>\n",
       "      <td>S03 600 00 47</td>\n",
       "      <td>AS_DL00120_DlI</td>\n",
       "    </tr>\n",
       "    <tr>\n",
       "      <th>6042750</th>\n",
       "      <td>(2019, 10, 30, 8, 30, 12, 2, 303, -1)</td>\n",
       "      <td>IH00171</td>\n",
       "      <td>03 600 00 86</td>\n",
       "      <td>AS_DL00120_DlI</td>\n",
       "    </tr>\n",
       "    <tr>\n",
       "      <th>309313</th>\n",
       "      <td>(2019, 10, 30, 8, 30, 12, 2, 303, -1)</td>\n",
       "      <td>IH00171</td>\n",
       "      <td>S03 600 00 86</td>\n",
       "      <td>AS_DL00120_DlI</td>\n",
       "    </tr>\n",
       "    <tr>\n",
       "      <th>2555362</th>\n",
       "      <td>(2019, 10, 30, 8, 37, 51, 2, 303, -1)</td>\n",
       "      <td>IH00171</td>\n",
       "      <td>S03 600 07 12</td>\n",
       "      <td>AS_DL00120_DlI</td>\n",
       "    </tr>\n",
       "    <tr>\n",
       "      <th>5330981</th>\n",
       "      <td>(2019, 10, 30, 8, 37, 51, 2, 303, -1)</td>\n",
       "      <td>IH00171</td>\n",
       "      <td>03 600 07 12</td>\n",
       "      <td>AS_DL00120_DlI</td>\n",
       "    </tr>\n",
       "    <tr>\n",
       "      <th>4498383</th>\n",
       "      <td>(2019, 10, 30, 8, 38, 20, 2, 303, -1)</td>\n",
       "      <td>IH00171</td>\n",
       "      <td>S03 600 00 94</td>\n",
       "      <td>AS_DL00120_DlI</td>\n",
       "    </tr>\n",
       "    <tr>\n",
       "      <th>2403430</th>\n",
       "      <td>(2019, 10, 30, 8, 38, 20, 2, 303, -1)</td>\n",
       "      <td>IH00171</td>\n",
       "      <td>03 600 00 94</td>\n",
       "      <td>AS_DL00120_DlI</td>\n",
       "    </tr>\n",
       "    <tr>\n",
       "      <th>1449444</th>\n",
       "      <td>(2019, 10, 30, 8, 38, 45, 2, 303, -1)</td>\n",
       "      <td>IH00171</td>\n",
       "      <td>03 600 07 34</td>\n",
       "      <td>AS_DL00120_DlI</td>\n",
       "    </tr>\n",
       "    <tr>\n",
       "      <th>4297583</th>\n",
       "      <td>(2019, 10, 30, 8, 38, 45, 2, 303, -1)</td>\n",
       "      <td>IH00171</td>\n",
       "      <td>S03 600 07 34</td>\n",
       "      <td>AS_DL00120_DlI</td>\n",
       "    </tr>\n",
       "    <tr>\n",
       "      <th>2191972</th>\n",
       "      <td>(2019, 10, 30, 8, 41, 6, 2, 303, -1)</td>\n",
       "      <td>DL00120</td>\n",
       "      <td>06 801 95 17</td>\n",
       "      <td>AS_DL00120_DlI</td>\n",
       "    </tr>\n",
       "    <tr>\n",
       "      <th>6032934</th>\n",
       "      <td>(2019, 10, 30, 8, 41, 45, 2, 303, -1)</td>\n",
       "      <td>IH00171</td>\n",
       "      <td>S03 600 00 47</td>\n",
       "      <td>AS_DL00120_DlI</td>\n",
       "    </tr>\n",
       "    <tr>\n",
       "      <th>3505976</th>\n",
       "      <td>(2019, 10, 30, 8, 41, 45, 2, 303, -1)</td>\n",
       "      <td>IH00171</td>\n",
       "      <td>03 600 00 47</td>\n",
       "      <td>AS_DL00120_DlI</td>\n",
       "    </tr>\n",
       "    <tr>\n",
       "      <th>3249191</th>\n",
       "      <td>(2019, 10, 30, 8, 42, 35, 2, 303, -1)</td>\n",
       "      <td>IH00171</td>\n",
       "      <td>S03 600 00 62</td>\n",
       "      <td>AS_DL00120_DlI</td>\n",
       "    </tr>\n",
       "    <tr>\n",
       "      <th>232548</th>\n",
       "      <td>(2019, 10, 30, 8, 42, 35, 2, 303, -1)</td>\n",
       "      <td>IH00171</td>\n",
       "      <td>03 600 00 62</td>\n",
       "      <td>AS_DL00120_DlI</td>\n",
       "    </tr>\n",
       "    <tr>\n",
       "      <th>2441203</th>\n",
       "      <td>(2019, 10, 30, 8, 43, 29, 2, 303, -1)</td>\n",
       "      <td>IH00171</td>\n",
       "      <td>S03 600 07 33</td>\n",
       "      <td>AS_DL00120_DlI</td>\n",
       "    </tr>\n",
       "    <tr>\n",
       "      <th>18674</th>\n",
       "      <td>(2019, 10, 30, 8, 43, 29, 2, 303, -1)</td>\n",
       "      <td>IH00171</td>\n",
       "      <td>03 600 07 33</td>\n",
       "      <td>AS_DL00120_DlI</td>\n",
       "    </tr>\n",
       "    <tr>\n",
       "      <th>5183851</th>\n",
       "      <td>(2019, 10, 30, 8, 50, 37, 2, 303, -1)</td>\n",
       "      <td>IH00171</td>\n",
       "      <td>03 600 00 90</td>\n",
       "      <td>AS_DL00120_DlI</td>\n",
       "    </tr>\n",
       "    <tr>\n",
       "      <th>6925856</th>\n",
       "      <td>(2019, 10, 30, 8, 50, 37, 2, 303, -1)</td>\n",
       "      <td>IH00171</td>\n",
       "      <td>S03 600 00 90</td>\n",
       "      <td>AS_DL00120_DlI</td>\n",
       "    </tr>\n",
       "    <tr>\n",
       "      <th>2058365</th>\n",
       "      <td>(2019, 10, 30, 10, 0, 0, 2, 303, -1)</td>\n",
       "      <td>DL00120</td>\n",
       "      <td>09 230 01 26</td>\n",
       "      <td>AS_DL00120_DlI</td>\n",
       "    </tr>\n",
       "    <tr>\n",
       "      <th>...</th>\n",
       "      <td>...</td>\n",
       "      <td>...</td>\n",
       "      <td>...</td>\n",
       "      <td>...</td>\n",
       "    </tr>\n",
       "    <tr>\n",
       "      <th>12925589</th>\n",
       "      <td>(2019, 10, 31, 18, 13, 20, 3, 304, -1)</td>\n",
       "      <td>IH00171</td>\n",
       "      <td>03 600 00 87</td>\n",
       "      <td>AS_DL00120_DlI</td>\n",
       "    </tr>\n",
       "    <tr>\n",
       "      <th>10283775</th>\n",
       "      <td>(2019, 10, 31, 18, 13, 37, 3, 304, -1)</td>\n",
       "      <td>IH00171</td>\n",
       "      <td>S03 600 07 33</td>\n",
       "      <td>AS_DL00120_DlI</td>\n",
       "    </tr>\n",
       "    <tr>\n",
       "      <th>12820486</th>\n",
       "      <td>(2019, 10, 31, 18, 13, 37, 3, 304, -1)</td>\n",
       "      <td>IH00171</td>\n",
       "      <td>03 600 07 33</td>\n",
       "      <td>AS_DL00120_DlI</td>\n",
       "    </tr>\n",
       "    <tr>\n",
       "      <th>8209560</th>\n",
       "      <td>(2019, 10, 31, 18, 26, 12, 3, 304, -1)</td>\n",
       "      <td>IH00171</td>\n",
       "      <td>03 600 00 71</td>\n",
       "      <td>AS_DL00120_DlI</td>\n",
       "    </tr>\n",
       "    <tr>\n",
       "      <th>10145967</th>\n",
       "      <td>(2019, 10, 31, 18, 28, 26, 3, 304, -1)</td>\n",
       "      <td>IH00171</td>\n",
       "      <td>03 400 12 50</td>\n",
       "      <td>AS_DL00120_DlI</td>\n",
       "    </tr>\n",
       "    <tr>\n",
       "      <th>11998656</th>\n",
       "      <td>(2019, 10, 31, 18, 29, 46, 3, 304, -1)</td>\n",
       "      <td>IH00171</td>\n",
       "      <td>S03 600 07 34</td>\n",
       "      <td>AS_DL00120_DlI</td>\n",
       "    </tr>\n",
       "    <tr>\n",
       "      <th>9907941</th>\n",
       "      <td>(2019, 10, 31, 18, 30, 29, 3, 304, -1)</td>\n",
       "      <td>IH00171</td>\n",
       "      <td>03 600 00 94</td>\n",
       "      <td>AS_DL00120_DlI</td>\n",
       "    </tr>\n",
       "    <tr>\n",
       "      <th>11879437</th>\n",
       "      <td>(2019, 10, 31, 18, 30, 29, 3, 304, -1)</td>\n",
       "      <td>IH00171</td>\n",
       "      <td>03 600 00 94</td>\n",
       "      <td>AS_DL00120_DlI</td>\n",
       "    </tr>\n",
       "    <tr>\n",
       "      <th>9318094</th>\n",
       "      <td>(2019, 10, 31, 18, 30, 29, 3, 304, -1)</td>\n",
       "      <td>IH00171</td>\n",
       "      <td>S03 600 00 94</td>\n",
       "      <td>AS_DL00120_DlI</td>\n",
       "    </tr>\n",
       "    <tr>\n",
       "      <th>11768613</th>\n",
       "      <td>(2019, 10, 31, 18, 31, 41, 3, 304, -1)</td>\n",
       "      <td>IH00171</td>\n",
       "      <td>S03 600 00 47</td>\n",
       "      <td>AS_DL00120_DlI</td>\n",
       "    </tr>\n",
       "    <tr>\n",
       "      <th>9140323</th>\n",
       "      <td>(2019, 10, 31, 18, 31, 42, 3, 304, -1)</td>\n",
       "      <td>IH00171</td>\n",
       "      <td>03 600 00 86</td>\n",
       "      <td>AS_DL00120_DlI</td>\n",
       "    </tr>\n",
       "    <tr>\n",
       "      <th>13733996</th>\n",
       "      <td>(2019, 10, 31, 18, 31, 42, 3, 304, -1)</td>\n",
       "      <td>IH00171</td>\n",
       "      <td>S03 600 00 86</td>\n",
       "      <td>AS_DL00120_DlI</td>\n",
       "    </tr>\n",
       "    <tr>\n",
       "      <th>9221433</th>\n",
       "      <td>(2019, 10, 31, 18, 32, 19, 3, 304, -1)</td>\n",
       "      <td>IH00171</td>\n",
       "      <td>03 600 07 33</td>\n",
       "      <td>AS_DL00120_DlI</td>\n",
       "    </tr>\n",
       "    <tr>\n",
       "      <th>13622723</th>\n",
       "      <td>(2019, 10, 31, 18, 32, 19, 3, 304, -1)</td>\n",
       "      <td>IH00171</td>\n",
       "      <td>S03 600 07 33</td>\n",
       "      <td>AS_DL00120_DlI</td>\n",
       "    </tr>\n",
       "    <tr>\n",
       "      <th>13545499</th>\n",
       "      <td>(2019, 10, 31, 18, 40, 2, 3, 304, -1)</td>\n",
       "      <td>IH00171</td>\n",
       "      <td>S03 600 01 22</td>\n",
       "      <td>AS_DL00120_DlI</td>\n",
       "    </tr>\n",
       "    <tr>\n",
       "      <th>9008445</th>\n",
       "      <td>(2019, 10, 31, 18, 40, 2, 3, 304, -1)</td>\n",
       "      <td>IH00171</td>\n",
       "      <td>03 600 01 22</td>\n",
       "      <td>AS_DL00120_DlI</td>\n",
       "    </tr>\n",
       "    <tr>\n",
       "      <th>13483653</th>\n",
       "      <td>(2019, 10, 31, 18, 40, 58, 3, 304, -1)</td>\n",
       "      <td>IH00171</td>\n",
       "      <td>S03 600 07 34</td>\n",
       "      <td>AS_DL00120_DlI</td>\n",
       "    </tr>\n",
       "    <tr>\n",
       "      <th>8352001</th>\n",
       "      <td>(2019, 10, 31, 18, 40, 58, 3, 304, -1)</td>\n",
       "      <td>IH00171</td>\n",
       "      <td>03 600 07 34</td>\n",
       "      <td>AS_DL00120_DlI</td>\n",
       "    </tr>\n",
       "    <tr>\n",
       "      <th>10853620</th>\n",
       "      <td>(2019, 10, 31, 18, 41, 7, 3, 304, -1)</td>\n",
       "      <td>IH00171</td>\n",
       "      <td>03 600 00 87</td>\n",
       "      <td>AS_DL00120_DlI</td>\n",
       "    </tr>\n",
       "    <tr>\n",
       "      <th>8274559</th>\n",
       "      <td>(2019, 10, 31, 18, 41, 7, 3, 304, -1)</td>\n",
       "      <td>IH00171</td>\n",
       "      <td>S03 600 00 87</td>\n",
       "      <td>AS_DL00120_DlI</td>\n",
       "    </tr>\n",
       "    <tr>\n",
       "      <th>8155738</th>\n",
       "      <td>(2019, 10, 31, 18, 41, 31, 3, 304, -1)</td>\n",
       "      <td>IH00171</td>\n",
       "      <td>S03 600 07 33</td>\n",
       "      <td>AS_DL00120_DlI</td>\n",
       "    </tr>\n",
       "    <tr>\n",
       "      <th>10758250</th>\n",
       "      <td>(2019, 10, 31, 18, 41, 31, 3, 304, -1)</td>\n",
       "      <td>IH00171</td>\n",
       "      <td>03 600 07 33</td>\n",
       "      <td>AS_DL00120_DlI</td>\n",
       "    </tr>\n",
       "    <tr>\n",
       "      <th>7985087</th>\n",
       "      <td>(2019, 10, 31, 18, 46, 58, 3, 304, -1)</td>\n",
       "      <td>IH00171</td>\n",
       "      <td>03 600 07 34</td>\n",
       "      <td>AS_DL00120_DlI</td>\n",
       "    </tr>\n",
       "    <tr>\n",
       "      <th>12618838</th>\n",
       "      <td>(2019, 10, 31, 18, 46, 58, 3, 304, -1)</td>\n",
       "      <td>IH00171</td>\n",
       "      <td>S03 600 07 34</td>\n",
       "      <td>AS_DL00120_DlI</td>\n",
       "    </tr>\n",
       "    <tr>\n",
       "      <th>9992473</th>\n",
       "      <td>(2019, 10, 31, 18, 47, 52, 3, 304, -1)</td>\n",
       "      <td>IH00171</td>\n",
       "      <td>03 600 00 94</td>\n",
       "      <td>AS_DL00120_DlI</td>\n",
       "    </tr>\n",
       "    <tr>\n",
       "      <th>9905909</th>\n",
       "      <td>(2019, 10, 31, 18, 47, 52, 3, 304, -1)</td>\n",
       "      <td>IH00171</td>\n",
       "      <td>S03 600 00 94</td>\n",
       "      <td>AS_DL00120_DlI</td>\n",
       "    </tr>\n",
       "    <tr>\n",
       "      <th>12480198</th>\n",
       "      <td>(2019, 10, 31, 18, 47, 52, 3, 304, -1)</td>\n",
       "      <td>IH00171</td>\n",
       "      <td>03 600 00 94</td>\n",
       "      <td>AS_DL00120_DlI</td>\n",
       "    </tr>\n",
       "    <tr>\n",
       "      <th>11848677</th>\n",
       "      <td>(2019, 10, 31, 18, 49, 17, 3, 304, -1)</td>\n",
       "      <td>IH00171</td>\n",
       "      <td>S03 600 00 47</td>\n",
       "      <td>AS_DL00120_DlI</td>\n",
       "    </tr>\n",
       "    <tr>\n",
       "      <th>9815953</th>\n",
       "      <td>(2019, 10, 31, 18, 49, 18, 3, 304, -1)</td>\n",
       "      <td>IH00171</td>\n",
       "      <td>03 600 00 86</td>\n",
       "      <td>AS_DL00120_DlI</td>\n",
       "    </tr>\n",
       "    <tr>\n",
       "      <th>9184746</th>\n",
       "      <td>(2019, 10, 31, 18, 50, 9, 3, 304, -1)</td>\n",
       "      <td>IH00171</td>\n",
       "      <td>03 600 07 33</td>\n",
       "      <td>AS_DL00120_DlI</td>\n",
       "    </tr>\n",
       "  </tbody>\n",
       "</table>\n",
       "<p>237 rows × 4 columns</p>\n",
       "</div>"
      ],
      "text/plain": [
       "                                 EVENTTIMESTAMP2 SERIAL_NUMBER           CODE  \\\n",
       "17177      (2019, 10, 30, 1, 40, 22, 2, 303, -1)       DL00120   00 800 60 07   \n",
       "5772780    (2019, 10, 30, 1, 40, 22, 2, 303, -1)       DL00120   00 800 60 07   \n",
       "7508403    (2019, 10, 30, 1, 40, 23, 2, 303, -1)       DL00120   00 800 60 07   \n",
       "3158925    (2019, 10, 30, 1, 40, 23, 2, 303, -1)       DL00120   00 800 60 07   \n",
       "5252084    (2019, 10, 30, 5, 31, 32, 2, 303, -1)       DL00120   00 700 15 08   \n",
       "2943368      (2019, 10, 30, 7, 0, 2, 2, 303, -1)       DL00120   00 700 30 01   \n",
       "7417687      (2019, 10, 30, 8, 0, 2, 2, 303, -1)       DL00120   00 700 00 01   \n",
       "5041254      (2019, 10, 30, 8, 0, 2, 2, 303, -1)       DL00120   00 700 00 01   \n",
       "2215691      (2019, 10, 30, 8, 0, 2, 2, 303, -1)       DL00120   00 700 00 01   \n",
       "4934831      (2019, 10, 30, 8, 0, 6, 2, 303, -1)       DL00120   00 700 30 08   \n",
       "1242919    (2019, 10, 30, 8, 30, 11, 2, 303, -1)       IH00171   03 600 00 47   \n",
       "3647992    (2019, 10, 30, 8, 30, 11, 2, 303, -1)       IH00171  S03 600 00 47   \n",
       "6042750    (2019, 10, 30, 8, 30, 12, 2, 303, -1)       IH00171   03 600 00 86   \n",
       "309313     (2019, 10, 30, 8, 30, 12, 2, 303, -1)       IH00171  S03 600 00 86   \n",
       "2555362    (2019, 10, 30, 8, 37, 51, 2, 303, -1)       IH00171  S03 600 07 12   \n",
       "5330981    (2019, 10, 30, 8, 37, 51, 2, 303, -1)       IH00171   03 600 07 12   \n",
       "4498383    (2019, 10, 30, 8, 38, 20, 2, 303, -1)       IH00171  S03 600 00 94   \n",
       "2403430    (2019, 10, 30, 8, 38, 20, 2, 303, -1)       IH00171   03 600 00 94   \n",
       "1449444    (2019, 10, 30, 8, 38, 45, 2, 303, -1)       IH00171   03 600 07 34   \n",
       "4297583    (2019, 10, 30, 8, 38, 45, 2, 303, -1)       IH00171  S03 600 07 34   \n",
       "2191972     (2019, 10, 30, 8, 41, 6, 2, 303, -1)       DL00120   06 801 95 17   \n",
       "6032934    (2019, 10, 30, 8, 41, 45, 2, 303, -1)       IH00171  S03 600 00 47   \n",
       "3505976    (2019, 10, 30, 8, 41, 45, 2, 303, -1)       IH00171   03 600 00 47   \n",
       "3249191    (2019, 10, 30, 8, 42, 35, 2, 303, -1)       IH00171  S03 600 00 62   \n",
       "232548     (2019, 10, 30, 8, 42, 35, 2, 303, -1)       IH00171   03 600 00 62   \n",
       "2441203    (2019, 10, 30, 8, 43, 29, 2, 303, -1)       IH00171  S03 600 07 33   \n",
       "18674      (2019, 10, 30, 8, 43, 29, 2, 303, -1)       IH00171   03 600 07 33   \n",
       "5183851    (2019, 10, 30, 8, 50, 37, 2, 303, -1)       IH00171   03 600 00 90   \n",
       "6925856    (2019, 10, 30, 8, 50, 37, 2, 303, -1)       IH00171  S03 600 00 90   \n",
       "2058365     (2019, 10, 30, 10, 0, 0, 2, 303, -1)       DL00120   09 230 01 26   \n",
       "...                                          ...           ...            ...   \n",
       "12925589  (2019, 10, 31, 18, 13, 20, 3, 304, -1)       IH00171   03 600 00 87   \n",
       "10283775  (2019, 10, 31, 18, 13, 37, 3, 304, -1)       IH00171  S03 600 07 33   \n",
       "12820486  (2019, 10, 31, 18, 13, 37, 3, 304, -1)       IH00171   03 600 07 33   \n",
       "8209560   (2019, 10, 31, 18, 26, 12, 3, 304, -1)       IH00171   03 600 00 71   \n",
       "10145967  (2019, 10, 31, 18, 28, 26, 3, 304, -1)       IH00171   03 400 12 50   \n",
       "11998656  (2019, 10, 31, 18, 29, 46, 3, 304, -1)       IH00171  S03 600 07 34   \n",
       "9907941   (2019, 10, 31, 18, 30, 29, 3, 304, -1)       IH00171   03 600 00 94   \n",
       "11879437  (2019, 10, 31, 18, 30, 29, 3, 304, -1)       IH00171   03 600 00 94   \n",
       "9318094   (2019, 10, 31, 18, 30, 29, 3, 304, -1)       IH00171  S03 600 00 94   \n",
       "11768613  (2019, 10, 31, 18, 31, 41, 3, 304, -1)       IH00171  S03 600 00 47   \n",
       "9140323   (2019, 10, 31, 18, 31, 42, 3, 304, -1)       IH00171   03 600 00 86   \n",
       "13733996  (2019, 10, 31, 18, 31, 42, 3, 304, -1)       IH00171  S03 600 00 86   \n",
       "9221433   (2019, 10, 31, 18, 32, 19, 3, 304, -1)       IH00171   03 600 07 33   \n",
       "13622723  (2019, 10, 31, 18, 32, 19, 3, 304, -1)       IH00171  S03 600 07 33   \n",
       "13545499   (2019, 10, 31, 18, 40, 2, 3, 304, -1)       IH00171  S03 600 01 22   \n",
       "9008445    (2019, 10, 31, 18, 40, 2, 3, 304, -1)       IH00171   03 600 01 22   \n",
       "13483653  (2019, 10, 31, 18, 40, 58, 3, 304, -1)       IH00171  S03 600 07 34   \n",
       "8352001   (2019, 10, 31, 18, 40, 58, 3, 304, -1)       IH00171   03 600 07 34   \n",
       "10853620   (2019, 10, 31, 18, 41, 7, 3, 304, -1)       IH00171   03 600 00 87   \n",
       "8274559    (2019, 10, 31, 18, 41, 7, 3, 304, -1)       IH00171  S03 600 00 87   \n",
       "8155738   (2019, 10, 31, 18, 41, 31, 3, 304, -1)       IH00171  S03 600 07 33   \n",
       "10758250  (2019, 10, 31, 18, 41, 31, 3, 304, -1)       IH00171   03 600 07 33   \n",
       "7985087   (2019, 10, 31, 18, 46, 58, 3, 304, -1)       IH00171   03 600 07 34   \n",
       "12618838  (2019, 10, 31, 18, 46, 58, 3, 304, -1)       IH00171  S03 600 07 34   \n",
       "9992473   (2019, 10, 31, 18, 47, 52, 3, 304, -1)       IH00171   03 600 00 94   \n",
       "9905909   (2019, 10, 31, 18, 47, 52, 3, 304, -1)       IH00171  S03 600 00 94   \n",
       "12480198  (2019, 10, 31, 18, 47, 52, 3, 304, -1)       IH00171   03 600 00 94   \n",
       "11848677  (2019, 10, 31, 18, 49, 17, 3, 304, -1)       IH00171  S03 600 00 47   \n",
       "9815953   (2019, 10, 31, 18, 49, 18, 3, 304, -1)       IH00171   03 600 00 86   \n",
       "9184746    (2019, 10, 31, 18, 50, 9, 3, 304, -1)       IH00171   03 600 07 33   \n",
       "\n",
       "            AS_CONFIG_ID  \n",
       "17177     AS_DL00120_DlI  \n",
       "5772780   AS_DL00120_DlI  \n",
       "7508403   AS_DL00120_DlI  \n",
       "3158925   AS_DL00120_DlI  \n",
       "5252084   AS_DL00120_DlI  \n",
       "2943368   AS_DL00120_DlI  \n",
       "7417687   AS_DL00120_DlI  \n",
       "5041254   AS_DL00120_DlI  \n",
       "2215691   AS_DL00120_DlI  \n",
       "4934831   AS_DL00120_DlI  \n",
       "1242919   AS_DL00120_DlI  \n",
       "3647992   AS_DL00120_DlI  \n",
       "6042750   AS_DL00120_DlI  \n",
       "309313    AS_DL00120_DlI  \n",
       "2555362   AS_DL00120_DlI  \n",
       "5330981   AS_DL00120_DlI  \n",
       "4498383   AS_DL00120_DlI  \n",
       "2403430   AS_DL00120_DlI  \n",
       "1449444   AS_DL00120_DlI  \n",
       "4297583   AS_DL00120_DlI  \n",
       "2191972   AS_DL00120_DlI  \n",
       "6032934   AS_DL00120_DlI  \n",
       "3505976   AS_DL00120_DlI  \n",
       "3249191   AS_DL00120_DlI  \n",
       "232548    AS_DL00120_DlI  \n",
       "2441203   AS_DL00120_DlI  \n",
       "18674     AS_DL00120_DlI  \n",
       "5183851   AS_DL00120_DlI  \n",
       "6925856   AS_DL00120_DlI  \n",
       "2058365   AS_DL00120_DlI  \n",
       "...                  ...  \n",
       "12925589  AS_DL00120_DlI  \n",
       "10283775  AS_DL00120_DlI  \n",
       "12820486  AS_DL00120_DlI  \n",
       "8209560   AS_DL00120_DlI  \n",
       "10145967  AS_DL00120_DlI  \n",
       "11998656  AS_DL00120_DlI  \n",
       "9907941   AS_DL00120_DlI  \n",
       "11879437  AS_DL00120_DlI  \n",
       "9318094   AS_DL00120_DlI  \n",
       "11768613  AS_DL00120_DlI  \n",
       "9140323   AS_DL00120_DlI  \n",
       "13733996  AS_DL00120_DlI  \n",
       "9221433   AS_DL00120_DlI  \n",
       "13622723  AS_DL00120_DlI  \n",
       "13545499  AS_DL00120_DlI  \n",
       "9008445   AS_DL00120_DlI  \n",
       "13483653  AS_DL00120_DlI  \n",
       "8352001   AS_DL00120_DlI  \n",
       "10853620  AS_DL00120_DlI  \n",
       "8274559   AS_DL00120_DlI  \n",
       "8155738   AS_DL00120_DlI  \n",
       "10758250  AS_DL00120_DlI  \n",
       "7985087   AS_DL00120_DlI  \n",
       "12618838  AS_DL00120_DlI  \n",
       "9992473   AS_DL00120_DlI  \n",
       "9905909   AS_DL00120_DlI  \n",
       "12480198  AS_DL00120_DlI  \n",
       "11848677  AS_DL00120_DlI  \n",
       "9815953   AS_DL00120_DlI  \n",
       "9184746   AS_DL00120_DlI  \n",
       "\n",
       "[237 rows x 4 columns]"
      ]
     },
     "execution_count": 23,
     "metadata": {},
     "output_type": "execute_result"
    }
   ],
   "source": [
    "# Each machines's dataframe can be gotten by stating its Index and worked upon\n",
    "machines = list(group.groups.keys())\n",
    "\n",
    "group.get_group(machines[1])"
   ]
  },
  {
   "cell_type": "code",
   "execution_count": null,
   "metadata": {},
   "outputs": [],
   "source": []
  },
  {
   "cell_type": "code",
   "execution_count": 24,
   "metadata": {},
   "outputs": [],
   "source": [
    "# Working on Machine 1\n",
    "\n",
    "m1 = group.get_group(machines[0])"
   ]
  },
  {
   "cell_type": "code",
   "execution_count": 25,
   "metadata": {},
   "outputs": [],
   "source": [
    "dic = {}\n",
    "this = 1\n",
    "\n",
    "for i in data['CODE'].unique():\n",
    "    \n",
    "    if i not in dic.keys():\n",
    "        dic[i] = this\n",
    "        this += 50"
   ]
  },
  {
   "cell_type": "code",
   "execution_count": 26,
   "metadata": {},
   "outputs": [
    {
     "name": "stderr",
     "output_type": "stream",
     "text": [
      "//anaconda3/lib/python3.7/site-packages/ipykernel_launcher.py:1: SettingWithCopyWarning: \n",
      "A value is trying to be set on a copy of a slice from a DataFrame.\n",
      "Try using .loc[row_indexer,col_indexer] = value instead\n",
      "\n",
      "See the caveats in the documentation: http://pandas.pydata.org/pandas-docs/stable/indexing.html#indexing-view-versus-copy\n",
      "  \"\"\"Entry point for launching an IPython kernel.\n"
     ]
    }
   ],
   "source": [
    "m1['CODEINT'] = m1['CODE'].map(lambda name: dic[name])"
   ]
  },
  {
   "cell_type": "code",
   "execution_count": 27,
   "metadata": {},
   "outputs": [],
   "source": [
    "import time"
   ]
  },
  {
   "cell_type": "code",
   "execution_count": 28,
   "metadata": {},
   "outputs": [
    {
     "data": {
      "text/plain": [
       "1572433241.0"
      ]
     },
     "execution_count": 28,
     "metadata": {},
     "output_type": "execute_result"
    }
   ],
   "source": [
    "# Converts Time object into seconds\n",
    "time.mktime(m1['EVENTTIMESTAMP2'].iloc[0])"
   ]
  },
  {
   "cell_type": "code",
   "execution_count": 29,
   "metadata": {},
   "outputs": [],
   "source": [
    "timearr = np.array([time.mktime(i)*10000000000 for i in m1['EVENTTIMESTAMP2']])\n",
    "def timer(a):\n",
    "    return time.mktime(a)"
   ]
  },
  {
   "cell_type": "code",
   "execution_count": 33,
   "metadata": {},
   "outputs": [
    {
     "data": {
      "text/plain": [
       "09 919 04 94     88\n",
       "S09 919 04 94    69\n",
       "04 801 95 14     25\n",
       "09 900 05 06     20\n",
       "S09 900 05 06    19\n",
       "00 700 40 07     14\n",
       "00 800 60 07     10\n",
       "08 020 06 10      9\n",
       "00 500 01 08      9\n",
       "09 230 01 20      7\n",
       "09 919 04 93      7\n",
       "S09 230 01 20     7\n",
       "S09 919 04 93     7\n",
       "00 700 00 01      6\n",
       "S09 923 05 00     6\n",
       "09 923 05 00      6\n",
       "06 901 01 08      4\n",
       "00 700 60 09      3\n",
       "06 801 95 17      2\n",
       "09 230 01 26      2\n",
       "08 050 02 01      2\n",
       "00 700 15 08      2\n",
       "00 700 30 08      2\n",
       "S09 230 01 26     2\n",
       "09 230 01 21      2\n",
       "S09 230 01 21     2\n",
       "00 500 01 49      2\n",
       "06 801 95 42      2\n",
       "06 801 95 18      1\n",
       "Name: CODE, dtype: int64"
      ]
     },
     "execution_count": 33,
     "metadata": {},
     "output_type": "execute_result"
    }
   ],
   "source": [
    "## \n",
    "m1['CODE'].value_counts()"
   ]
  },
  {
   "cell_type": "code",
   "execution_count": 31,
   "metadata": {},
   "outputs": [
    {
     "data": {
      "image/png": "[encoded data removed]",
      "text/plain": [
       "<Figure size 2880x1080 with 1 Axes>"
      ]
     },
     "metadata": {
      "needs_background": "light"
     },
     "output_type": "display_data"
    }
   ],
   "source": [
    "# this is a plot of the graph across time having integerized the code\n",
    "\n",
    "import matplotlib.pyplot as plt\n",
    "plt.figure(figsize = (40,15))\n",
    "plt.plot(timearr,np.array(m1['CODEINT']))\n",
    "plt.yticks(np.array(m1['CODEINT']),np.array(m1['CODE']))\n",
    "plt.xscale('linear')\n",
    "plt.title('Occurrence of Error in Sequence')\n",
    "plt.show()"
   ]
  },
  {
   "cell_type": "code",
   "execution_count": 32,
   "metadata": {},
   "outputs": [],
   "source": [
    "# WE need to find repeating patterns in the data. Sort of like periodicity. Check out this link\n",
    "# https://stackoverflow.com/questions/11752727/pattern-recognition-in-time-series"
   ]
  },
  {
   "cell_type": "code",
   "execution_count": 132,
   "metadata": {},
   "outputs": [],
   "source": [
    "# This function plots similar graphs for all machines.\n",
    "# Just input the machines number that you want to see the graph of \n",
    "\n",
    "def plot_graphs(machine_num):\n",
    "    df = group.get_group(machines[machine_num])\n",
    "    df['CODEINT'] = df['CODE'].map(lambda name: dic[name])\n",
    "    timearr = np.array([time.mktime(i)*10000000000 for i in df['EVENTTIMESTAMP2']])\n",
    "    \n",
    "    # Plotting graph\n",
    "    plt.figure(figsize = (40,15))\n",
    "    plt.plot(timearr,np.array(df['CODEINT']))\n",
    "    plt.yticks(np.array(df['CODEINT']),np.array(df['CODE']))\n",
    "    plt.xscale('linear')\n",
    "    plt.title('Occurrence of Error in Sequence')\n",
    "    plt.show()\n",
    "    \n",
    "    "
   ]
  },
  {
   "cell_type": "code",
   "execution_count": 131,
   "metadata": {},
   "outputs": [
    {
     "name": "stderr",
     "output_type": "stream",
     "text": [
      "//anaconda3/lib/python3.7/site-packages/ipykernel_launcher.py:5: SettingWithCopyWarning: \n",
      "A value is trying to be set on a copy of a slice from a DataFrame.\n",
      "Try using .loc[row_indexer,col_indexer] = value instead\n",
      "\n",
      "See the caveats in the documentation: http://pandas.pydata.org/pandas-docs/stable/indexing.html#indexing-view-versus-copy\n",
      "  \"\"\"\n"
     ]
    },
    {
     "data": {
      "image/png": "[encoded data removed]",
      "text/plain": [
       "<Figure size 2880x1080 with 1 Axes>"
      ]
     },
     "metadata": {
      "needs_background": "light"
     },
     "output_type": "display_data"
    }
   ],
   "source": [
    "plot_graphs(3)"
   ]
  },
  {
   "cell_type": "code",
   "execution_count": null,
   "metadata": {},
   "outputs": [],
   "source": []
  },
  {
   "cell_type": "code",
   "execution_count": null,
   "metadata": {},
   "outputs": [],
   "source": []
  },
  {
   "cell_type": "code",
   "execution_count": null,
   "metadata": {},
   "outputs": [],
   "source": [
    "#####---------------- OLD WORK ----------------####"
   ]
  },
  {
   "cell_type": "code",
   "execution_count": 59,
   "metadata": {},
   "outputs": [],
   "source": [
    "data1 = data.sort_values(by=['EVENTTIMESTAMP2'])"
   ]
  },
  {
   "cell_type": "code",
   "execution_count": 62,
   "metadata": {},
   "outputs": [
    {
     "data": {
      "text/html": [
       "<div>\n",
       "<style scoped>\n",
       "    .dataframe tbody tr th:only-of-type {\n",
       "        vertical-align: middle;\n",
       "    }\n",
       "\n",
       "    .dataframe tbody tr th {\n",
       "        vertical-align: top;\n",
       "    }\n",
       "\n",
       "    .dataframe thead th {\n",
       "        text-align: right;\n",
       "    }\n",
       "</style>\n",
       "<table border=\"1\" class=\"dataframe\">\n",
       "  <thead>\n",
       "    <tr style=\"text-align: right;\">\n",
       "      <th></th>\n",
       "      <th>Unnamed: 0</th>\n",
       "      <th>EVENTTIMESTAMP2</th>\n",
       "      <th>SERIAL_NUMBER</th>\n",
       "      <th>SEVERITY</th>\n",
       "      <th>CODE</th>\n",
       "      <th>EVENTDATA</th>\n",
       "      <th>AS_CONFIG_ID</th>\n",
       "      <th>AUTOMATION</th>\n",
       "      <th>CUSTOMER_CATEGORY</th>\n",
       "      <th>SW_VERSION_SRS</th>\n",
       "    </tr>\n",
       "  </thead>\n",
       "  <tbody>\n",
       "    <tr>\n",
       "      <th>count</th>\n",
       "      <td>1.400000e+07</td>\n",
       "      <td>14000000</td>\n",
       "      <td>14000000</td>\n",
       "      <td>703117</td>\n",
       "      <td>10552610</td>\n",
       "      <td>13958740</td>\n",
       "      <td>13616376</td>\n",
       "      <td>13616376</td>\n",
       "      <td>13616376</td>\n",
       "      <td>13554673</td>\n",
       "    </tr>\n",
       "    <tr>\n",
       "      <th>unique</th>\n",
       "      <td>NaN</td>\n",
       "      <td>172800</td>\n",
       "      <td>2146</td>\n",
       "      <td>1</td>\n",
       "      <td>1614</td>\n",
       "      <td>8973125</td>\n",
       "      <td>624</td>\n",
       "      <td>2</td>\n",
       "      <td>4</td>\n",
       "      <td>10</td>\n",
       "    </tr>\n",
       "    <tr>\n",
       "      <th>top</th>\n",
       "      <td>NaN</td>\n",
       "      <td>(2019, 10, 30, 3, 1, 14, 2, 303, -1)</td>\n",
       "      <td>SP00240</td>\n",
       "      <td>Error</td>\n",
       "      <td>05 002 02 01</td>\n",
       "      <td>SH state changed from Ready to Processing.</td>\n",
       "      <td>AS_SP00410_SSIII</td>\n",
       "      <td>False</td>\n",
       "      <td>Customer Site</td>\n",
       "      <td>1.20.1.3451002</td>\n",
       "    </tr>\n",
       "    <tr>\n",
       "      <th>freq</th>\n",
       "      <td>NaN</td>\n",
       "      <td>1465</td>\n",
       "      <td>91341</td>\n",
       "      <td>703117</td>\n",
       "      <td>1071486</td>\n",
       "      <td>127919</td>\n",
       "      <td>143155</td>\n",
       "      <td>7584082</td>\n",
       "      <td>13578936</td>\n",
       "      <td>7563685</td>\n",
       "    </tr>\n",
       "    <tr>\n",
       "      <th>mean</th>\n",
       "      <td>8.256655e+06</td>\n",
       "      <td>NaN</td>\n",
       "      <td>NaN</td>\n",
       "      <td>NaN</td>\n",
       "      <td>NaN</td>\n",
       "      <td>NaN</td>\n",
       "      <td>NaN</td>\n",
       "      <td>NaN</td>\n",
       "      <td>NaN</td>\n",
       "      <td>NaN</td>\n",
       "    </tr>\n",
       "    <tr>\n",
       "      <th>std</th>\n",
       "      <td>4.864481e+06</td>\n",
       "      <td>NaN</td>\n",
       "      <td>NaN</td>\n",
       "      <td>NaN</td>\n",
       "      <td>NaN</td>\n",
       "      <td>NaN</td>\n",
       "      <td>NaN</td>\n",
       "      <td>NaN</td>\n",
       "      <td>NaN</td>\n",
       "      <td>NaN</td>\n",
       "    </tr>\n",
       "    <tr>\n",
       "      <th>min</th>\n",
       "      <td>0.000000e+00</td>\n",
       "      <td>NaN</td>\n",
       "      <td>NaN</td>\n",
       "      <td>NaN</td>\n",
       "      <td>NaN</td>\n",
       "      <td>NaN</td>\n",
       "      <td>NaN</td>\n",
       "      <td>NaN</td>\n",
       "      <td>NaN</td>\n",
       "      <td>NaN</td>\n",
       "    </tr>\n",
       "    <tr>\n",
       "      <th>25%</th>\n",
       "      <td>3.835958e+06</td>\n",
       "      <td>NaN</td>\n",
       "      <td>NaN</td>\n",
       "      <td>NaN</td>\n",
       "      <td>NaN</td>\n",
       "      <td>NaN</td>\n",
       "      <td>NaN</td>\n",
       "      <td>NaN</td>\n",
       "      <td>NaN</td>\n",
       "      <td>NaN</td>\n",
       "    </tr>\n",
       "    <tr>\n",
       "      <th>50%</th>\n",
       "      <td>8.569960e+06</td>\n",
       "      <td>NaN</td>\n",
       "      <td>NaN</td>\n",
       "      <td>NaN</td>\n",
       "      <td>NaN</td>\n",
       "      <td>NaN</td>\n",
       "      <td>NaN</td>\n",
       "      <td>NaN</td>\n",
       "      <td>NaN</td>\n",
       "      <td>NaN</td>\n",
       "    </tr>\n",
       "    <tr>\n",
       "      <th>75%</th>\n",
       "      <td>1.249209e+07</td>\n",
       "      <td>NaN</td>\n",
       "      <td>NaN</td>\n",
       "      <td>NaN</td>\n",
       "      <td>NaN</td>\n",
       "      <td>NaN</td>\n",
       "      <td>NaN</td>\n",
       "      <td>NaN</td>\n",
       "      <td>NaN</td>\n",
       "      <td>NaN</td>\n",
       "    </tr>\n",
       "    <tr>\n",
       "      <th>max</th>\n",
       "      <td>1.638684e+07</td>\n",
       "      <td>NaN</td>\n",
       "      <td>NaN</td>\n",
       "      <td>NaN</td>\n",
       "      <td>NaN</td>\n",
       "      <td>NaN</td>\n",
       "      <td>NaN</td>\n",
       "      <td>NaN</td>\n",
       "      <td>NaN</td>\n",
       "      <td>NaN</td>\n",
       "    </tr>\n",
       "  </tbody>\n",
       "</table>\n",
       "</div>"
      ],
      "text/plain": [
       "          Unnamed: 0                       EVENTTIMESTAMP2 SERIAL_NUMBER  \\\n",
       "count   1.400000e+07                              14000000      14000000   \n",
       "unique           NaN                                172800          2146   \n",
       "top              NaN  (2019, 10, 30, 3, 1, 14, 2, 303, -1)       SP00240   \n",
       "freq             NaN                                  1465         91341   \n",
       "mean    8.256655e+06                                   NaN           NaN   \n",
       "std     4.864481e+06                                   NaN           NaN   \n",
       "min     0.000000e+00                                   NaN           NaN   \n",
       "25%     3.835958e+06                                   NaN           NaN   \n",
       "50%     8.569960e+06                                   NaN           NaN   \n",
       "75%     1.249209e+07                                   NaN           NaN   \n",
       "max     1.638684e+07                                   NaN           NaN   \n",
       "\n",
       "       SEVERITY          CODE                                   EVENTDATA  \\\n",
       "count    703117      10552610                                    13958740   \n",
       "unique        1          1614                                     8973125   \n",
       "top       Error  05 002 02 01  SH state changed from Ready to Processing.   \n",
       "freq     703117       1071486                                      127919   \n",
       "mean        NaN           NaN                                         NaN   \n",
       "std         NaN           NaN                                         NaN   \n",
       "min         NaN           NaN                                         NaN   \n",
       "25%         NaN           NaN                                         NaN   \n",
       "50%         NaN           NaN                                         NaN   \n",
       "75%         NaN           NaN                                         NaN   \n",
       "max         NaN           NaN                                         NaN   \n",
       "\n",
       "            AS_CONFIG_ID AUTOMATION  \\\n",
       "count           13616376   13616376   \n",
       "unique               624          2   \n",
       "top     AS_SP00410_SSIII      False   \n",
       "freq              143155    7584082   \n",
       "mean                 NaN        NaN   \n",
       "std                  NaN        NaN   \n",
       "min                  NaN        NaN   \n",
       "25%                  NaN        NaN   \n",
       "50%                  NaN        NaN   \n",
       "75%                  NaN        NaN   \n",
       "max                  NaN        NaN   \n",
       "\n",
       "                                    CUSTOMER_CATEGORY  SW_VERSION_SRS  \n",
       "count                                        13616376        13554673  \n",
       "unique                                              4              10  \n",
       "top     Customer Site                                  1.20.1.3451002  \n",
       "freq                                         13578936         7563685  \n",
       "mean                                              NaN             NaN  \n",
       "std                                               NaN             NaN  \n",
       "min                                               NaN             NaN  \n",
       "25%                                               NaN             NaN  \n",
       "50%                                               NaN             NaN  \n",
       "75%                                               NaN             NaN  \n",
       "max                                               NaN             NaN  "
      ]
     },
     "execution_count": 62,
     "metadata": {},
     "output_type": "execute_result"
    }
   ],
   "source": [
    "data1.describe(include = 'all')"
   ]
  },
  {
   "cell_type": "code",
   "execution_count": 63,
   "metadata": {},
   "outputs": [
    {
     "data": {
      "text/plain": [
       "05 002 02 01     1071486\n",
       "S04 900 05 06     748738\n",
       "04 900 05 06      747263\n",
       "05 005 01 12      641119\n",
       "05 005 01 13      639553\n",
       "07 108 00 05      636929\n",
       "05 005 01 11      579563\n",
       "05 005 01 10      578258\n",
       "08 020 06 10      550060\n",
       "05 004 01 01      435032\n",
       "05 003 01 17      287212\n",
       "10 003 02 01      257131\n",
       "05 003 03 11      143439\n",
       "05 003 03 12      143323\n",
       "04 801 95 14      130409\n",
       "S04 919 04 94     128483\n",
       "04 919 04 94      128405\n",
       "05 004 02 01      127261\n",
       "03 600 07 33      124786\n",
       "S03 600 07 33     124579\n",
       "03 600 07 34      106807\n",
       "S03 600 07 34     106680\n",
       "07 110 01 02      100737\n",
       "00 800 60 07       78692\n",
       "06 801 95 17       78173\n",
       "00 700 40 48       75951\n",
       "05 003 03 10       71856\n",
       "05 003 03 09       71586\n",
       "08 020 07 01       63452\n",
       "06 901 01 01       61636\n",
       "                  ...   \n",
       "00 500 01 50           1\n",
       "S04 231 01 34          1\n",
       "00 700 11 02           1\n",
       "04 318 02 77           1\n",
       "S04 068 02 74          1\n",
       "04 152 01 45           1\n",
       "03 600 00 92           1\n",
       "04 082 05 08           1\n",
       "04 055 01 46           1\n",
       "04 230 00 53           1\n",
       "S07 108 00 09          1\n",
       "S04 399 00 03          1\n",
       "10 007 01 07           1\n",
       "03 600 02 41           1\n",
       "S04 186 02 40          1\n",
       "S04 075 02 14          1\n",
       "S04 423 00 08          1\n",
       "04 440 01 91           1\n",
       "05 007 01 40           1\n",
       "S04 131 00 09          1\n",
       "09 230 03 04           1\n",
       "03 600 02 37           1\n",
       "S03 600 07 03          1\n",
       "04 083 02 77           1\n",
       "09 254 04 72           1\n",
       "S04 055 01 46          1\n",
       "S04 094 01 45          1\n",
       "03 600 14 24           1\n",
       "S04 094 01 62          1\n",
       "S04 917 04 95          1\n",
       "Name: CODE, Length: 1614, dtype: int64"
      ]
     },
     "execution_count": 63,
     "metadata": {},
     "output_type": "execute_result"
    }
   ],
   "source": [
    "data1.CODE.value_counts()"
   ]
  },
  {
   "cell_type": "code",
   "execution_count": 65,
   "metadata": {},
   "outputs": [],
   "source": [
    "findata = data1.iloc[:,[1,4]]"
   ]
  },
  {
   "cell_type": "code",
   "execution_count": 67,
   "metadata": {},
   "outputs": [
    {
     "data": {
      "text/html": [
       "<div>\n",
       "<style scoped>\n",
       "    .dataframe tbody tr th:only-of-type {\n",
       "        vertical-align: middle;\n",
       "    }\n",
       "\n",
       "    .dataframe tbody tr th {\n",
       "        vertical-align: top;\n",
       "    }\n",
       "\n",
       "    .dataframe thead th {\n",
       "        text-align: right;\n",
       "    }\n",
       "</style>\n",
       "<table border=\"1\" class=\"dataframe\">\n",
       "  <thead>\n",
       "    <tr style=\"text-align: right;\">\n",
       "      <th></th>\n",
       "      <th>EVENTTIMESTAMP2</th>\n",
       "      <th>CODE</th>\n",
       "    </tr>\n",
       "  </thead>\n",
       "  <tbody>\n",
       "    <tr>\n",
       "      <th>count</th>\n",
       "      <td>14000000</td>\n",
       "      <td>10552610</td>\n",
       "    </tr>\n",
       "    <tr>\n",
       "      <th>unique</th>\n",
       "      <td>172800</td>\n",
       "      <td>1614</td>\n",
       "    </tr>\n",
       "    <tr>\n",
       "      <th>top</th>\n",
       "      <td>(2019, 10, 30, 3, 1, 14, 2, 303, -1)</td>\n",
       "      <td>05 002 02 01</td>\n",
       "    </tr>\n",
       "    <tr>\n",
       "      <th>freq</th>\n",
       "      <td>1465</td>\n",
       "      <td>1071486</td>\n",
       "    </tr>\n",
       "  </tbody>\n",
       "</table>\n",
       "</div>"
      ],
      "text/plain": [
       "                             EVENTTIMESTAMP2          CODE\n",
       "count                               14000000      10552610\n",
       "unique                                172800          1614\n",
       "top     (2019, 10, 30, 3, 1, 14, 2, 303, -1)  05 002 02 01\n",
       "freq                                    1465       1071486"
      ]
     },
     "execution_count": 67,
     "metadata": {},
     "output_type": "execute_result"
    }
   ],
   "source": [
    "findata.describe(include = 'all')"
   ]
  },
  {
   "cell_type": "code",
   "execution_count": 78,
   "metadata": {},
   "outputs": [
    {
     "data": {
      "text/plain": [
       "array(['05 003 03 11', '05 004 01 01', 'S09 230 01 26', ...,\n",
       "       'S04 080 04 22', '04 080 04 22', '05 003 01 19'], dtype=object)"
      ]
     },
     "execution_count": 78,
     "metadata": {},
     "output_type": "execute_result"
    }
   ],
   "source": [
    "findata['CODE'].unique()"
   ]
  },
  {
   "cell_type": "code",
   "execution_count": 75,
   "metadata": {},
   "outputs": [
    {
     "ename": "IndexError",
     "evalue": "too many indices for array",
     "output_type": "error",
     "traceback": [
      "\u001b[0;31m---------------------------------------------------------------------------\u001b[0m",
      "\u001b[0;31mIndexError\u001b[0m                                Traceback (most recent call last)",
      "\u001b[0;32m<ipython-input-75-fb0e0080324e>\u001b[0m in \u001b[0;36m<module>\u001b[0;34m()\u001b[0m\n\u001b[0;32m----> 1\u001b[0;31m \u001b[0mx\u001b[0m\u001b[0;34m[\u001b[0m\u001b[0;36m1\u001b[0m\u001b[0;34m]\u001b[0m\u001b[0;34m\u001b[0m\u001b[0m\n\u001b[0m",
      "\u001b[0;31mIndexError\u001b[0m: too many indices for array"
     ]
    }
   ],
   "source": [
    "x[1]"
   ]
  },
  {
   "cell_type": "code",
   "execution_count": 92,
   "metadata": {},
   "outputs": [
    {
     "ename": "SyntaxError",
     "evalue": "invalid syntax (<ipython-input-92-07578e3b58bf>, line 1)",
     "output_type": "error",
     "traceback": [
      "\u001b[0;36m  File \u001b[0;32m\"<ipython-input-92-07578e3b58bf>\"\u001b[0;36m, line \u001b[0;32m1\u001b[0m\n\u001b[0;31m    global dic = {}\u001b[0m\n\u001b[0m               ^\u001b[0m\n\u001b[0;31mSyntaxError\u001b[0m\u001b[0;31m:\u001b[0m invalid syntax\n"
     ]
    }
   ],
   "source": [
    "dic = {}\n",
    "this = 100\n",
    "\n",
    "for i in findata['CODE'].unique():\n",
    "    \n",
    "    if i not in dic.keys():\n",
    "        dic[i] = this\n",
    "        this= this + 100\n",
    "        \n"
   ]
  },
  {
   "cell_type": "code",
   "execution_count": 93,
   "metadata": {},
   "outputs": [
    {
     "data": {
      "text/plain": [
       "{nan: 400,\n",
       " 'S09 254 04 72': 56200,\n",
       " '08 020 06 05': 6000,\n",
       " '03 600 00 43': 50400,\n",
       " '03 600 06 18': 62600,\n",
       " '05 007 01 45': 74900,\n",
       " '00 700 41 19': 800,\n",
       " '04 404 01 00': 18800,\n",
       " '09 254 04 72': 56100,\n",
       " '08 020 06 06': 96200,\n",
       " '03 600 03 13': 25000,\n",
       " 'S07 108 02 03': 36800,\n",
       " '05 003 01 04': 50500,\n",
       " '04 119 01 46': 128500,\n",
       " 'S03 600 02 32': 40100,\n",
       " 'S03 600 06 23': 92700,\n",
       " '03 999 00 52': 74300,\n",
       " '03 600 02 53': 141900,\n",
       " '10 007 01 11': 49700,\n",
       " 'S04 134 05 07': 82500,\n",
       " '05 003 01 22': 36700,\n",
       " '04 085 02 77': 86600,\n",
       " '05 007 01 28': 74700,\n",
       " 'S03 600 00 80': 53000,\n",
       " 'S03 600 03 08': 15700,\n",
       " '00 700 40 26': 75100,\n",
       " 'S03 600 03 15': 35900,\n",
       " 'S04 070 01 28': 104000,\n",
       " '08 020 06 02': 58900,\n",
       " 'S04 006 03 75': 154400,\n",
       " 'S09 230 01 26': 300,\n",
       " 'S04 230 01 21': 10600,\n",
       " 'S03 600 06 30': 73800,\n",
       " 'S04 465 00 09': 95200,\n",
       " '00 600 50 03': 103900,\n",
       " 'S03 800 06 09': 138400,\n",
       " '03 400 09 22': 22800,\n",
       " '03 600 08 13': 75300,\n",
       " '04 070 00 99': 51000,\n",
       " '05 007 01 07': 139600,\n",
       " 'S03 600 02 35': 144500,\n",
       " '05 005 01 20': 128700,\n",
       " '03 600 06 31': 124000,\n",
       " '00 500 10 20': 107900,\n",
       " 'S03 600 06 25': 63300,\n",
       " '05 003 01 03': 49000,\n",
       " '08 020 06 26': 28000,\n",
       " '03 600 02 09': 124600,\n",
       " 'S07 108 02 02': 65700,\n",
       " 'S04 480 02 77': 151800,\n",
       " 'S04 037 05 07': 143200,\n",
       " 'S03 400 13 27': 81300,\n",
       " '03 400 12 15': 142000,\n",
       " 'S09 256 03 43': 108000,\n",
       " 'S04 055 02 12': 134500,\n",
       " '04 466 04 82': 45100,\n",
       " '06 901 01 02': 7700,\n",
       " '04 230 01 24': 59400,\n",
       " '03 600 06 20': 36500,\n",
       " '05 003 01 07': 44700,\n",
       " '04 082 05 08': 160900,\n",
       " '04 478 04 69': 144700,\n",
       " '04 130 04 70': 140600,\n",
       " '07 108 02 01': 65600,\n",
       " '04 185 02 77': 90000,\n",
       " 'S04 404 01 28': 104300,\n",
       " 'S03 400 12 50': 26700,\n",
       " '03 600 00 03': 156100,\n",
       " '03 400 12 30': 24700,\n",
       " '05 002 01 06': 16500,\n",
       " 'S03 600 03 16': 55100,\n",
       " '09 254 05 10': 68600,\n",
       " 'S03 600 14 17': 118600,\n",
       " '04 801 95 49': 33700,\n",
       " '04 487 03 72': 153000,\n",
       " '03 400 08 14': 50800,\n",
       " 'S04 164 02 77': 146700,\n",
       " 'S04 070 01 05': 67500,\n",
       " 'S04 231 00 68': 70900,\n",
       " 'S03 600 06 16': 55700,\n",
       " '07 106 00 01': 34200,\n",
       " '00 700 40 27': 75200,\n",
       " '00 500 11 12': 109400,\n",
       " '06 801 95 41': 11400,\n",
       " 'S03 600 00 08': 135300,\n",
       " '08 020 01 02': 143300,\n",
       " '04 477 04 84': 161000,\n",
       " '00 500 01 45': 75900,\n",
       " '04 116 03 79': 115100,\n",
       " 'S09 919 04 93': 1600,\n",
       " 'S03 600 02 34': 30100,\n",
       " '04 191 02 19': 152800,\n",
       " '00 700 40 72': 122500,\n",
       " '04 337 03 70': 72000,\n",
       " '04 419 01 70': 131900,\n",
       " 'S03 400 08 10': 32100,\n",
       " 'S03 600 10 02': 156900,\n",
       " '04 466 02 17': 59800,\n",
       " '03 600 03 08': 15900,\n",
       " 'S04 440 01 78': 154300,\n",
       " '09 273 02 17': 161200,\n",
       " '09 230 00 85': 108600,\n",
       " 'S04 377 01 34': 104900,\n",
       " 'S04 467 02 77': 84600,\n",
       " '04 230 01 25': 60000,\n",
       " '03 400 09 31': 26500,\n",
       " 'S04 466 02 17': 59700,\n",
       " '04 105 04 63': 62400,\n",
       " 'S04 070 01 29': 125800,\n",
       " 'S07 117 00 02': 37400,\n",
       " 'S07 055 00 02': 130500,\n",
       " '04 055 01 46': 120300,\n",
       " 'S04 384 00 09': 143700,\n",
       " '05 500 01 05': 97400,\n",
       " 'S03 600 06 29': 69300,\n",
       " '04 390 00 09': 119200,\n",
       " 'S03 600 00 48': 121600,\n",
       " 'S04 183 02 77': 85600,\n",
       " 'S03 400 09 51': 155400,\n",
       " '05 005 01 01': 157500,\n",
       " '05 003 01 17': 3200,\n",
       " '04 384 01 00': 64100,\n",
       " 'S03 600 02 08': 66900,\n",
       " '03 600 02 35': 144600,\n",
       " '04 062 01 08': 61400,\n",
       " 'S04 230 00 51': 80800,\n",
       " 'S04 409 04 75': 127100,\n",
       " '04 055 05 25': 51300,\n",
       " '08 020 07 01': 8100,\n",
       " 'S04 379 02 77': 86000,\n",
       " '03 600 09 07': 148400,\n",
       " 'S03 600 00 10': 17900,\n",
       " '10 007 01 13': 117900,\n",
       " '03 600 00 94': 16900,\n",
       " '03 600 00 08': 135200,\n",
       " '05 007 01 33': 52700,\n",
       " 'S03 400 13 16': 14700,\n",
       " '09 231 00 15': 146500,\n",
       " '00 500 01 36': 45800,\n",
       " 'S04 073 00 09': 95600,\n",
       " '07 057 00 05': 74400,\n",
       " '04 230 00 71': 94400,\n",
       " '04 082 03 43': 145900,\n",
       " '04 801 95 37': 102000,\n",
       " 'S04 313 02 77': 86900,\n",
       " 'S09 254 00 97': 40300,\n",
       " '05 002 02 02': 15400,\n",
       " 'S03 600 02 40': 137400,\n",
       " 'S03 400 09 17': 58400,\n",
       " '05 005 01 08': 76300,\n",
       " '09 230 00 52': 107700,\n",
       " '04 801 95 03': 39800,\n",
       " '05 007 01 39': 106100,\n",
       " '03 400 09 23': 11200,\n",
       " 'S04 383 01 47': 79500,\n",
       " 'S03 600 01 25': 93100,\n",
       " 'S03 600 02 33': 6100,\n",
       " 'S03 600 15 66': 129300,\n",
       " 'S09 248 01 70': 108300,\n",
       " '05 003 01 08': 128200,\n",
       " 'S04 037 05 25': 53400,\n",
       " '04 440 01 95': 107100,\n",
       " '03 600 02 02': 112800,\n",
       " '04 092 03 43': 55900,\n",
       " 'S04 070 05 29': 125300,\n",
       " '03 600 02 29': 19100,\n",
       " 'S07 108 00 09': 128000,\n",
       " '05 007 01 29': 52800,\n",
       " '00 500 11 04': 67400,\n",
       " 'S04 919 04 94': 1400,\n",
       " 'S09 273 02 17': 159800,\n",
       " 'S03 600 02 48': 141700,\n",
       " '04 003 02 77': 89700,\n",
       " '07 114 00 01': 78200,\n",
       " '00 700 50 05': 128400,\n",
       " '00 500 11 16': 82100,\n",
       " '10 007 01 16': 118200,\n",
       " '04 230 00 68': 160400,\n",
       " '09 230 01 24': 137800,\n",
       " '03 999 00 40': 75800,\n",
       " 'S03 400 13 06': 148300,\n",
       " '04 230 01 21': 10900,\n",
       " '04 052 01 05': 18200,\n",
       " 'S04 175 03 72': 59100,\n",
       " '06 801 95 47': 4700,\n",
       " '03 600 07 35': 51800,\n",
       " 'S03 400 09 19': 42400,\n",
       " '05 003 03 10': 2400,\n",
       " 'S04 188 02 77': 89000,\n",
       " 'S03 600 00 36': 48800,\n",
       " '09 230 00 71': 110000,\n",
       " '03 400 13 25': 64400,\n",
       " '00 600 60 07': 34800,\n",
       " '04 384 00 09': 143800,\n",
       " '05 005 01 02': 100500,\n",
       " '03 400 12 17': 106300,\n",
       " 'S03 600 03 26': 24900,\n",
       " 'S03 600 02 52': 141300,\n",
       " '00 700 55 38': 76800,\n",
       " 'S04 919 04 93': 900,\n",
       " '10 004 01 01': 136300,\n",
       " '08 020 07 03': 105700,\n",
       " '00 700 55 23': 78300,\n",
       " 'S03 400 09 31': 26400,\n",
       " '05 200 01 03': 88600,\n",
       " '03 600 02 06': 11100,\n",
       " 'S04 085 02 77': 85700,\n",
       " 'S09 256 02 14': 108200,\n",
       " '03 600 07 34': 21900,\n",
       " '04 312 02 77': 90800,\n",
       " '04 490 00 09': 77700,\n",
       " '03 400 09 21': 11800,\n",
       " '04 488 05 19': 38500,\n",
       " '04 105 00 09': 149800,\n",
       " '06 801 95 40': 54000,\n",
       " 'S03 800 06 06': 18600,\n",
       " '03 600 00 42': 56700,\n",
       " '03 600 02 44': 136700,\n",
       " 'S04 073 01 44': 56600,\n",
       " '04 468 02 17': 44300,\n",
       " '03 600 08 12': 69100,\n",
       " '04 134 05 28': 115300,\n",
       " '08 010 00 01': 29700,\n",
       " '10 004 01 04': 100700,\n",
       " '08 050 02 01': 5900,\n",
       " '03 600 07 10': 41500,\n",
       " '03 600 02 80': 123300,\n",
       " 'S03 600 02 02': 112900,\n",
       " '00 700 00 01': 5700,\n",
       " 'S04 185 03 72': 111700,\n",
       " '07 114 00 02': 121800,\n",
       " '05 002 01 02': 72400,\n",
       " '09 230 00 51': 78900,\n",
       " 'S03 600 03 22': 54500,\n",
       " '05 003 01 21': 9900,\n",
       " 'S09 230 03 04': 98900,\n",
       " '03 999 00 62': 29000,\n",
       " 'S04 490 00 09': 77900,\n",
       " 'S04 350 02 77': 91200,\n",
       " '00 700 55 09': 146200,\n",
       " '04 188 02 77': 89300,\n",
       " '04 440 00 09': 36200,\n",
       " '06 901 01 03': 31900,\n",
       " '05 005 02 01': 31500,\n",
       " '03 600 00 81': 15500,\n",
       " '00 700 40 31': 101700,\n",
       " '04 382 02 77': 85100,\n",
       " 'S04 231 00 08': 131000,\n",
       " '03 600 07 24': 42200,\n",
       " '03 600 02 48': 141600,\n",
       " 'S03 600 13 07': 112200,\n",
       " '03 600 06 30': 73700,\n",
       " 'S04 131 03 78': 61200,\n",
       " '06 801 95 25': 22700,\n",
       " '08 020 01 26': 117000,\n",
       " 'S03 600 00 03': 156000,\n",
       " 'S03 600 14 19': 120000,\n",
       " '07 113 03 04': 54300,\n",
       " 'S03 600 00 69': 159100,\n",
       " 'S04 173 02 77': 87600,\n",
       " 'S04 230 01 26': 5400,\n",
       " '05 002 01 11': 4500,\n",
       " '00 700 43 06': 109000,\n",
       " 'S04 055 02 15': 69400,\n",
       " 'S07 106 00 01': 34100,\n",
       " '03 600 02 19': 13600,\n",
       " '07 110 01 02': 500,\n",
       " 'S03 400 13 34': 153800,\n",
       " '04 230 01 17': 38600,\n",
       " '04 230 01 26': 5200,\n",
       " 'S09 919 04 94': 6400,\n",
       " '04 417 03 41': 155900,\n",
       " 'S09 276 02 77': 99000,\n",
       " '05 007 01 16': 140100,\n",
       " '03 600 02 05': 70100,\n",
       " '06 815 90 05': 129000,\n",
       " 'S03 600 06 27': 116400,\n",
       " '05 002 02 01': 7200,\n",
       " 'S04 094 01 62': 160500,\n",
       " '00 500 11 17': 98500,\n",
       " 'S04 055 01 46': 120200,\n",
       " '05 300 02 01': 136400,\n",
       " '09 256 03 43': 108100,\n",
       " '00 700 40 38': 106400,\n",
       " 'S04 134 02 12': 82400,\n",
       " '04 440 01 91': 157800,\n",
       " '03 700 06 10': 53800,\n",
       " 'S03 400 12 17': 106200,\n",
       " 'S04 073 00 03': 142500,\n",
       " '00 500 01 50': 155800,\n",
       " 'S07 117 00 01': 122400,\n",
       " '03 400 13 24': 61800,\n",
       " 'S03 400 09 16': 1200,\n",
       " '09 272 02 77': 155300,\n",
       " '05 004 02 01': 1300,\n",
       " 'S04 337 03 70': 71900,\n",
       " '10 007 01 03': 134700,\n",
       " '03 800 06 04': 94700,\n",
       " '03 400 09 20': 31700,\n",
       " 'S04 141 03 43': 131100,\n",
       " '04 231 01 34': 149000,\n",
       " '04 134 01 61': 127400,\n",
       " '04 081 02 29': 126700,\n",
       " '00 800 40 01': 35500,\n",
       " '03 600 02 04': 28800,\n",
       " 'S09 272 02 77': 155200,\n",
       " 'S04 384 05 32': 147700,\n",
       " '05 200 01 05': 97500,\n",
       " 'S04 186 04 64': 120700,\n",
       " '00 700 55 01': 4200,\n",
       " 'S03 600 00 54': 39500,\n",
       " '04 399 00 03': 133000,\n",
       " '04 346 02 77': 146900,\n",
       " '05 003 01 24': 124400,\n",
       " '00 500 01 49': 73300,\n",
       " 'S03 600 02 14': 23200,\n",
       " '04 203 02 77': 89200,\n",
       " '03 600 07 12': 29100,\n",
       " 'S04 016 00 08': 99300,\n",
       " '03 600 17 03': 65000,\n",
       " '03 600 00 29': 41100,\n",
       " 'S04 194 01 88': 152500,\n",
       " '05 003 01 12': 122800,\n",
       " '03 600 02 46': 149500,\n",
       " '04 173 02 77': 85000,\n",
       " '00 700 43 08': 129100,\n",
       " '03 600 17 04': 112500,\n",
       " '00 700 40 36': 160700,\n",
       " '05 003 01 18': 132100,\n",
       " '00 800 30 09': 19700,\n",
       " '04 001 02 77': 86400,\n",
       " '03 600 06 21': 145000,\n",
       " '04 480 02 77': 151700,\n",
       " '03 600 01 26': 47400,\n",
       " 'S04 230 00 06': 148800,\n",
       " '04 073 01 44': 56500,\n",
       " 'S03 600 00 37': 52300,\n",
       " '09 230 03 04': 98800,\n",
       " '08 040 01 03': 19400,\n",
       " '03 310 00 01': 87900,\n",
       " '07 110 02 01': 17000,\n",
       " '03 600 07 03': 132400,\n",
       " '04 073 01 62': 145400,\n",
       " '04 404 01 04': 75500,\n",
       " '09 231 01 44': 109600,\n",
       " '03 999 00 43': 111800,\n",
       " 'S04 383 05 07': 82700,\n",
       " '03 800 01 04': 77400,\n",
       " 'S03 600 00 61': 62900,\n",
       " 'S03 400 08 09': 15000,\n",
       " '04 052 00 99': 48200,\n",
       " 'S04 419 02 14': 130800,\n",
       " '03 600 02 41': 145600,\n",
       " 'S03 600 03 06': 153500,\n",
       " 'S04 382 02 77': 84800,\n",
       " '08 020 01 18': 67000,\n",
       " 'S03 600 00 88': 29900,\n",
       " '07 118 00 01': 45600,\n",
       " 'S04 399 00 03': 133200,\n",
       " '00 700 60 09': 10000,\n",
       " '04 801 95 55': 33600,\n",
       " '03 600 00 11': 114300,\n",
       " '04 152 01 45': 151000,\n",
       " 'S04 052 00 99': 48100,\n",
       " 'S03 400 08 14': 50900,\n",
       " '05 006 01 03': 157400,\n",
       " '04 070 01 05': 67600,\n",
       " '03 600 14 04': 37100,\n",
       " 'S03 600 02 26': 96500,\n",
       " '04 125 02 77': 87500,\n",
       " '05 005 01 06': 68700,\n",
       " '04 440 01 83': 119600,\n",
       " '06 801 95 36': 105800,\n",
       " 'S04 419 01 70': 131800,\n",
       " '03 600 06 29': 69200,\n",
       " '00 800 60 10': 48300,\n",
       " '03 600 07 09': 42100,\n",
       " 'S04 113 02 77': 90600,\n",
       " '03 600 02 31': 73200,\n",
       " '00 700 65 09': 24200,\n",
       " '04 057 03 43': 38400,\n",
       " '04 474 02 06': 100800,\n",
       " 'S04 203 02 77': 89800,\n",
       " '04 077 03 43': 23400,\n",
       " 'S04 468 04 82': 44800,\n",
       " '04 085 02 62': 147100,\n",
       " '04 384 05 32': 147800,\n",
       " '05 003 03 04': 149700,\n",
       " '00 700 40 06': 6600,\n",
       " '03 800 01 05': 31300,\n",
       " 'S03 600 03 11': 27700,\n",
       " 'S03 600 02 51': 142600,\n",
       " 'S04 134 01 61': 127300,\n",
       " 'S03 600 02 04': 28900,\n",
       " '04 801 95 14': 8700,\n",
       " '03 600 03 05': 68900,\n",
       " '04 230 04 77': 5000,\n",
       " '04 152 04 75': 109200,\n",
       " 'S04 383 01 46': 149200,\n",
       " '05 003 03 13': 45300,\n",
       " '05 003 03 01': 146300,\n",
       " '03 600 02 45': 149600,\n",
       " 'S07 117 00 03': 39300,\n",
       " '00 600 60 09': 8300,\n",
       " 'S04 474 04 65': 144100,\n",
       " '04 404 00 09': 138800,\n",
       " 'S04 466 04 82': 45000,\n",
       " '00 700 11 07': 139000,\n",
       " 'S09 230 00 85': 108500,\n",
       " '08 020 08 01': 41000,\n",
       " 'S07 110 03 01': 80500,\n",
       " 'S04 052 05 29': 80200,\n",
       " 'S03 600 00 90': 12600,\n",
       " '08 020 01 19': 14400,\n",
       " 'S04 465 00 04': 94200,\n",
       " '03 600 03 10': 27000,\n",
       " 'S03 800 11 01': 33300,\n",
       " 'S03 600 17 03': 64900,\n",
       " '08 020 06 12': 19500,\n",
       " 'S04 210 00 09': 117400,\n",
       " '05 002 01 10': 21000,\n",
       " '03 600 02 26': 96400,\n",
       " 'S03 600 00 86': 9200,\n",
       " '04 130 02 77': 91500,\n",
       " 'S04 230 02 76': 134300,\n",
       " '07 110 01 05': 137700,\n",
       " 'S04 073 01 62': 145300,\n",
       " 'S03 600 02 53': 141800,\n",
       " '04 080 04 22': 161400,\n",
       " 'S04 077 02 14': 57400,\n",
       " 'S03 400 12 80': 105200,\n",
       " '04 052 05 29': 80100,\n",
       " '08 020 07 02': 36600,\n",
       " 'S03 600 01 21': 12500,\n",
       " 'S09 250 02 14': 107500,\n",
       " '00 600 60 10': 700,\n",
       " '09 923 05 00': 52500,\n",
       " 'S03 600 02 45': 149400,\n",
       " '03 600 07 11': 41700,\n",
       " '03 600 00 98': 53100,\n",
       " 'S04 318 02 77': 157200,\n",
       " '00 700 40 05': 11900,\n",
       " '07 113 02 01': 92900,\n",
       " '05 005 01 04': 48900,\n",
       " 'S03 600 00 98': 53200,\n",
       " 'S03 600 02 19': 13300,\n",
       " '04 152 00 09': 160000,\n",
       " '03 600 00 17': 151600,\n",
       " '04 037 05 07': 143100,\n",
       " '07 115 00 02': 22300,\n",
       " 'S03 600 02 43': 137600,\n",
       " '09 230 00 41': 78800,\n",
       " '04 318 02 77': 157100,\n",
       " 'S07 057 00 02': 138200,\n",
       " '03 600 03 26': 25500,\n",
       " '04 115 04 70': 114800,\n",
       " '07 110 01 03': 3600,\n",
       " 'S09 230 01 25': 106800,\n",
       " '04 801 95 06': 31100,\n",
       " 'S04 186 02 52': 70700,\n",
       " 'S03 600 00 65': 46700,\n",
       " 'S03 600 02 06': 10700,\n",
       " '03 600 13 22': 93500,\n",
       " '00 700 43 05': 107800,\n",
       " '03 600 00 72': 41400,\n",
       " '00 700 41 09': 153100,\n",
       " '05 002 01 09': 72300,\n",
       " 'S04 230 01 17': 38800,\n",
       " '03 600 02 38': 137200,\n",
       " 'S04 178 02 77': 87700,\n",
       " 'S03 600 07 33': 7300,\n",
       " '04 230 00 85': 81600,\n",
       " 'S03 600 09 05': 106600,\n",
       " '00 700 40 74': 83100,\n",
       " 'S04 487 03 72': 152900,\n",
       " 'S03 600 07 01': 77100,\n",
       " 'S04 230 01 24': 59500,\n",
       " 'S03 600 07 17': 154800,\n",
       " 'S04 006 00 09': 154600,\n",
       " 'S03 600 00 42': 56800,\n",
       " 'S04 005 04 69': 139500,\n",
       " '04 461 03 78': 122700,\n",
       " 'S03 600 14 21': 32500,\n",
       " '07 108 01 02': 123900,\n",
       " 'S09 271 04 82': 66400,\n",
       " 'S04 900 95 46': 38900,\n",
       " '04 383 00 09': 160600,\n",
       " '00 600 60 11': 105900,\n",
       " '04 128 02 77': 91000,\n",
       " '04 801 95 10': 8200,\n",
       " '04 801 95 38': 57900,\n",
       " '07 115 00 04': 103400,\n",
       " '03 400 13 06': 148200,\n",
       " '00 700 43 01': 108800,\n",
       " 'S03 600 07 25': 101200,\n",
       " 'S04 149 01 06': 10300,\n",
       " '04 356 03 78': 61600,\n",
       " 'S03 600 03 03': 60800,\n",
       " '09 801 95 20': 136800,\n",
       " '00 700 15 01': 34700,\n",
       " '03 400 13 26': 43900,\n",
       " '04 380 01 34': 105100,\n",
       " 'S03 600 02 12': 27600,\n",
       " '00 700 45 06': 127600,\n",
       " '04 090 01 70': 156200,\n",
       " '04 131 00 09': 140400,\n",
       " '00 500 10 02': 26000,\n",
       " 'S03 600 03 17': 54900,\n",
       " '00 500 11 03': 108700,\n",
       " '04 377 01 34': 104800,\n",
       " 'S04 080 04 22': 161300,\n",
       " 'S04 149 01 00': 78100,\n",
       " '00 500 01 37': 121000,\n",
       " '04 231 02 14': 131500,\n",
       " 'S04 346 02 77': 146800,\n",
       " '04 230 00 63': 144300,\n",
       " '04 052 01 28': 104500,\n",
       " '03 600 02 40': 137300,\n",
       " 'S04 404 00 09': 138900,\n",
       " '05 007 01 30': 74800,\n",
       " '03 999 00 42': 26300,\n",
       " '06 801 95 17': 14900,\n",
       " 'S04 474 02 06': 100900,\n",
       " '04 230 00 83': 134200,\n",
       " 'S03 400 12 81': 133300,\n",
       " '04 440 01 87': 60300,\n",
       " 'S03 400 12 83': 45900,\n",
       " 'S03 400 09 04': 14500,\n",
       " 'S04 224 03 75': 135400,\n",
       " 'S04 440 01 91': 157900,\n",
       " '04 110 02 77': 85900,\n",
       " '08 020 01 01': 44200,\n",
       " '04 037 05 25': 53300,\n",
       " '07 109 00 01': 54200,\n",
       " '04 481 02 77': 84700,\n",
       " '05 004 01 01': 200,\n",
       " '03 600 01 20': 114100,\n",
       " '03 600 07 25': 101300,\n",
       " '00 500 01 04': 93900,\n",
       " 'S03 600 07 18': 111900,\n",
       " 'S04 440 00 09': 36100,\n",
       " '03 600 17 21': 138500,\n",
       " 'S04 357 02 77': 90500,\n",
       " 'S03 600 02 39': 143500,\n",
       " 'S03 600 07 12': 29200,\n",
       " '03 600 10 02': 157000,\n",
       " 'S04 008 02 77': 84300,\n",
       " 'S04 440 01 82': 158400,\n",
       " 'S04 121 02 14': 128300,\n",
       " '09 250 03 43': 107400,\n",
       " '03 800 06 01': 3800,\n",
       " '05 002 01 08': 57800,\n",
       " 'S03 600 02 46': 149300,\n",
       " '07 057 00 06': 71400,\n",
       " 'S03 600 00 96': 45700,\n",
       " '03 400 13 15': 12800,\n",
       " 'S04 230 00 85': 81500,\n",
       " '04 116 03 74': 129700,\n",
       " '00 700 41 25': 106500,\n",
       " 'S04 390 00 03': 130300,\n",
       " 'S04 461 03 78': 122600,\n",
       " '03 600 02 20': 119800,\n",
       " '04 116 03 78': 23800,\n",
       " 'S03 400 09 22': 22900,\n",
       " '04 149 01 06': 10100,\n",
       " '09 254 00 97': 40200,\n",
       " 'S03 800 06 02': 1800,\n",
       " '03 600 00 95': 25900,\n",
       " 'S09 230 00 41': 78700,\n",
       " '07 110 01 06': 19900,\n",
       " 'S04 070 00 99': 51100,\n",
       " '03 600 02 10': 58700,\n",
       " '04 404 00 98': 83600,\n",
       " '00 500 10 03': 22000,\n",
       " '07 108 00 09': 128100,\n",
       " 'S04 490 02 28': 77600,\n",
       " '03 600 01 22': 46200,\n",
       " 'S04 404 01 29': 98700,\n",
       " '05 003 01 20': 28500,\n",
       " '04 052 01 29': 35400,\n",
       " '03 600 06 28': 116600,\n",
       " '05 002 01 17': 31200,\n",
       " '00 700 43 02': 45200,\n",
       " '06 801 95 16': 6300,\n",
       " 'S03 600 10 03': 88100,\n",
       " '04 390 00 03': 130200,\n",
       " '07 109 00 02': 55400,\n",
       " '04 009 03 78': 42700,\n",
       " '04 390 03 41': 119100,\n",
       " 'S09 293 02 77': 110500,\n",
       " '00 700 50 16': 66500,\n",
       " '03 600 00 48': 121700,\n",
       " '04 230 00 41': 80700,\n",
       " 'S04 116 03 74': 129600,\n",
       " '05 002 01 12': 21300,\n",
       " 'S09 230 00 71': 110300,\n",
       " 'S04 900 05 33': 69000,\n",
       " '03 400 09 52': 79800,\n",
       " '03 600 07 32': 112600,\n",
       " '03 600 07 38': 132300,\n",
       " '04 194 04 50': 63100,\n",
       " 'S04 481 02 77': 86700,\n",
       " 'S03 600 02 38': 137100,\n",
       " '00 700 40 29': 31800,\n",
       " '03 600 00 85': 14100,\n",
       " '03 600 14 14': 128800,\n",
       " '03 999 00 47': 2500,\n",
       " '05 003 01 13': 84200,\n",
       " '04 113 02 77': 91300,\n",
       " '08 020 06 11': 94800,\n",
       " 'S03 600 00 97': 37300,\n",
       " '06 815 90 04': 47600,\n",
       " '03 600 14 27': 126900,\n",
       " 'S04 037 00 99': 67200,\n",
       " 'S03 400 13 28': 68300,\n",
       " '00 700 30 01': 5800,\n",
       " '03 800 11 01': 55600,\n",
       " '03 400 12 18': 136100,\n",
       " '04 440 01 46': 107200,\n",
       " '04 490 02 28': 77800,\n",
       " '05 007 01 14': 139100,\n",
       " 'S04 130 00 09': 141100,\n",
       " 'S03 600 00 70': 69600,\n",
       " '04 350 02 77': 90900,\n",
       " '09 230 02 17': 158600,\n",
       " '04 801 95 04': 28200,\n",
       " '08 020 06 23': 17100,\n",
       " '04 210 00 09': 117500,\n",
       " '04 037 02 15': 102200,\n",
       " '04 230 00 52': 56400,\n",
       " 'S04 230 03 04': 92400,\n",
       " '08 010 00 02': 53900,\n",
       " '00 800 60 11': 83400,\n",
       " 'S04 130 04 70': 140700,\n",
       " '07 113 03 03': 55200,\n",
       " '07 108 02 03': 36900,\n",
       " 'S03 700 06 10': 53700,\n",
       " '04 120 04 63': 81100,\n",
       " 'S03 600 03 25': 37600,\n",
       " '03 600 05 03': 70300,\n",
       " '05 005 02 03': 57500,\n",
       " 'S03 400 13 23': 63900,\n",
       " '03 600 07 08': 30800,\n",
       " 'S04 230 04 77': 5100,\n",
       " '04 343 03 78': 60900,\n",
       " 'S04 488 05 19': 38700,\n",
       " '04 230 00 51': 81000,\n",
       " 'S03 600 14 18': 32400,\n",
       " 'S04 189 01 75': 111200,\n",
       " '04 341 03 70': 71500,\n",
       " '03 600 02 07': 96300,\n",
       " 'S03 600 06 21': 144900,\n",
       " '03 400 13 10': 95900,\n",
       " '04 383 02 12': 82600,\n",
       " 'S03 800 06 07': 9000,\n",
       " '09 276 02 77': 99100,\n",
       " '05 003 03 05': 45400,\n",
       " '04 379 00 03': 115800,\n",
       " 'S04 440 01 87': 60400,\n",
       " '04 210 03 75': 117200,\n",
       " '10 007 01 08': 101600,\n",
       " '03 600 14 18': 33200,\n",
       " '04 420 04 63': 113500,\n",
       " 'S03 400 12 30': 24800,\n",
       " '03 400 08 11': 63500,\n",
       " 'S03 400 12 18': 136200,\n",
       " '03 600 14 25': 127000,\n",
       " '03 400 09 19': 42300,\n",
       " '07 108 00 05': 1700,\n",
       " '07 110 05 02': 143600,\n",
       " 'S04 399 02 14': 133100,\n",
       " '00 500 01 08': 11600,\n",
       " '10 005 01 02': 144000,\n",
       " 'S09 230 00 63': 78600,\n",
       " 'S03 600 02 31': 73100,\n",
       " 'S04 404 05 31': 76200,\n",
       " 'S03 600 00 62': 2900,\n",
       " '03 600 03 04': 91900,\n",
       " 'S03 600 13 06': 93300,\n",
       " 'S03 600 00 95': 25800,\n",
       " '03 600 03 25': 37700,\n",
       " '04 016 00 08': 99200,\n",
       " '04 006 03 75': 154500,\n",
       " '03 600 00 47': 8400,\n",
       " '10 003 02 04': 97800,\n",
       " '00 600 60 05': 160100,\n",
       " '07 108 00 08': 51900,\n",
       " '00 600 60 15': 20800,\n",
       " '04 224 00 09': 135700,\n",
       " '05 300 01 01': 115400,\n",
       " '00 500 01 35': 12100,\n",
       " 'S03 400 09 20': 31600,\n",
       " 'S04 490 05 13': 71200,\n",
       " 'S03 400 08 13': 47000,\n",
       " 'S07 110 05 01': 44600,\n",
       " '00 800 40 04': 101900,\n",
       " 'S04 440 01 76': 113100,\n",
       " 'S03 600 14 23': 49300,\n",
       " '05 002 01 14': 134000,\n",
       " '04 801 95 08': 34000,\n",
       " '04 011 01 72': 152200,\n",
       " '04 092 03 41': 132500,\n",
       " '03 600 01 25': 93200,\n",
       " '00 700 41 04': 74000,\n",
       " '05 007 01 31': 34400,\n",
       " 'S04 383 00 09': 160200,\n",
       " '05 007 01 32': 34500,\n",
       " '07 108 00 03': 13400,\n",
       " '05 005 01 14': 121500,\n",
       " '08 020 06 21': 9500,\n",
       " '00 700 60 13': 124700,\n",
       " '04 118 02 77': 92300,\n",
       " '05 002 02 12': 51400,\n",
       " 'S03 600 07 10': 41600,\n",
       " '05 002 01 07': 28100,\n",
       " '04 440 01 93': 33500,\n",
       " 'S04 404 00 98': 83500,\n",
       " 'S04 125 02 77': 87200,\n",
       " 'S03 600 00 41': 50100,\n",
       " '04 404 05 27': 16300,\n",
       " 'S04 056 01 05': 70600,\n",
       " '03 600 14 22': 32800,\n",
       " '10 004 02 05': 113200,\n",
       " 'S04 052 01 29': 35300,\n",
       " 'S04 230 05 20': 72900,\n",
       " 'S04 230 00 53': 159600,\n",
       " 'S04 118 02 77': 92000,\n",
       " '08 040 02 01': 15300,\n",
       " '04 134 05 07': 82200,\n",
       " 'S04 477 02 77': 99400,\n",
       " 'S03 700 06 16': 119000,\n",
       " '03 800 01 07': 77500,\n",
       " '03 400 09 06': 129400,\n",
       " 'S04 090 01 70': 156300,\n",
       " '00 700 45 02': 65100,\n",
       " 'S04 133 02 77': 92100,\n",
       " 'S04 116 03 78': 23700,\n",
       " '00 700 55 07': 13700,\n",
       " 'S04 307 02 77': 86100,\n",
       " 'S07 110 01 03': 4100,\n",
       " 'S04 115 04 70': 115000,\n",
       " '08 020 05 01': 111000,\n",
       " 'S03 600 10 04': 130100,\n",
       " 'S03 600 02 05': 70000,\n",
       " '05 003 03 02': 114000,\n",
       " 'S04 116 03 79': 114900,\n",
       " 'S04 478 04 69': 144800,\n",
       " '03 600 00 57': 66600,\n",
       " '10 008 01 06': 101800,\n",
       " '04 180 03 72': 103200,\n",
       " 'S07 108 02 01': 65500,\n",
       " '10 003 02 03': 97900,\n",
       " '03 400 08 09': 15100,\n",
       " '06 815 90 07': 64500,\n",
       " '00 600 50 07': 22400,\n",
       " '03 800 06 02': 2800,\n",
       " '05 005 02 02': 96900,\n",
       " '04 231 00 08': 131400,\n",
       " 'S04 141 02 14': 130900,\n",
       " '03 600 00 87': 33000,\n",
       " '05 003 03 14': 135800,\n",
       " '03 600 03 01': 64800,\n",
       " '00 500 10 18': 20600,\n",
       " '06 901 01 09': 47700,\n",
       " '03 600 00 93': 58200,\n",
       " '03 600 10 05': 157600,\n",
       " '04 801 95 01': 43600,\n",
       " '04 307 02 77': 85200,\n",
       " '04 011 05 24': 29800,\n",
       " 'S04 092 02 14': 56300,\n",
       " '03 600 06 26': 116900,\n",
       " '03 600 01 27': 153700,\n",
       " '08 020 06 27': 117100,\n",
       " '07 110 01 04': 20700,\n",
       " 'S04 170 03 72': 148000,\n",
       " 'S04 210 02 77': 85400,\n",
       " '05 007 01 40': 136500,\n",
       " '09 271 04 82': 66200,\n",
       " '04 037 01 46': 123400,\n",
       " '03 600 00 71': 96700,\n",
       " 'S03 400 12 44': 154200,\n",
       " 'S03 600 02 29': 19300,\n",
       " '05 003 01 15': 20500,\n",
       " 'S03 600 00 19': 42500,\n",
       " '08 010 00 06': 125400,\n",
       " '09 248 01 70': 108400,\n",
       " '00 600 60 20': 96800,\n",
       " 'S04 180 02 77': 90200,\n",
       " '03 600 02 77': 102100,\n",
       " 'S07 113 02 01': 93000,\n",
       " '00 700 60 01': 39600,\n",
       " '04 106 03 29': 98400,\n",
       " 'S04 149 01 28': 104100,\n",
       " 'S04 037 00 09': 150700,\n",
       " '03 600 13 04': 95000,\n",
       " '04 230 02 17': 147500,\n",
       " '03 400 09 18': 118300,\n",
       " 'S04 473 02 77': 89500,\n",
       " '04 919 04 94': 1000,\n",
       " '03 999 00 41': 27400,\n",
       " 'S04 343 03 78': 61000,\n",
       " '04 073 01 63': 57200,\n",
       " '03 600 10 10': 138100,\n",
       " '07 110 01 08': 4000,\n",
       " 'S04 230 00 71': 94300,\n",
       " '05 007 01 36': 106000,\n",
       " '03 600 00 10': 17800,\n",
       " '05 005 01 15': 76400,\n",
       " '10 003 01 06': 40500,\n",
       " 'S03 600 03 13': 25100,\n",
       " '03 600 02 39': 143400,\n",
       " '05 004 03 04': 102900,\n",
       " '05 003 03 12': 5500,\n",
       " '05 007 01 38': 88400,\n",
       " '04 801 95 29': 71100,\n",
       " '03 600 03 11': 27800,\n",
       " '10 007 01 12': 118000,\n",
       " '00 700 50 07': 83300,\n",
       " '00 800 60 15': 32200,\n",
       " '00 600 50 04': 62000,\n",
       " '04 131 03 78': 61100,\n",
       " '04 055 02 15': 69500,\n",
       " 'S03 600 09 08': 121100,\n",
       " '03 600 01 05': 124800,\n",
       " '04 189 01 75': 111300,\n",
       " '00 500 10 14': 109500,\n",
       " 'S03 600 01 20': 114200,\n",
       " '00 800 60 02': 27900,\n",
       " '04 202 02 44': 73400,\n",
       " '00 600 50 10': 67900,\n",
       " 'S03 400 13 25': 64300,\n",
       " '06 815 05 05': 11700,\n",
       " 'S04 186 02 40': 157700,\n",
       " '03 600 03 14': 26800,\n",
       " '03 600 03 02': 37800,\n",
       " '04 073 00 09': 95700,\n",
       " 'S04 073 00 08': 153200,\n",
       " '09 801 95 21': 76900,\n",
       " '03 600 00 36': 48700,\n",
       " '03 600 00 88': 30000,\n",
       " 'S04 115 02 62': 127900,\n",
       " 'S03 800 06 04': 94600,\n",
       " '06 801 95 46': 9800,\n",
       " '00 700 50 22': 58100,\n",
       " '04 011 00 02': 159400,\n",
       " '03 600 14 20': 32300,\n",
       " 'S04 104 01 70': 156600,\n",
       " '05 007 01 25': 34300,\n",
       " 'S03 600 00 57': 66700,\n",
       " 'S04 382 00 03': 115700,\n",
       " 'S04 404 01 06': 22500,\n",
       " '03 600 00 61': 63000,\n",
       " 'S04 230 00 83': 134400,\n",
       " 'S09 254 01 52': 125900,\n",
       " 'S04 115 02 77': 91600,\n",
       " '07 113 03 02': 51700,\n",
       " 'S03 600 07 30': 60600,\n",
       " '07 055 00 02': 130600,\n",
       " 'S03 600 02 41': 145500,\n",
       " '00 700 15 08': 19600,\n",
       " '03 600 00 18': 84000,\n",
       " 'S04 202 02 44': 73500,\n",
       " '08 020 01 16': 15200,\n",
       " '03 600 02 43': 137500,\n",
       " '05 003 03 11': 100,\n",
       " 'S03 400 09 28': 29300,\n",
       " 'S04 231 01 34': 148900,\n",
       " '03 600 15 66': 129200,\n",
       " '04 130 00 09': 141000,\n",
       " '04 133 02 77': 92200,\n",
       " 'S04 152 01 45': 151100,\n",
       " 'S03 600 06 22': 17600,\n",
       " 'S04 119 01 70': 156700,\n",
       " '03 600 00 54': 39400,\n",
       " '10 500 01 07': 8500,\n",
       " '08 020 03 01': 59600,\n",
       " 'S03 600 00 85': 14200,\n",
       " 'S03 400 09 15': 2300,\n",
       " '04 384 00 98': 125500,\n",
       " '04 801 95 09': 60200,\n",
       " '00 500 10 16': 8800,\n",
       " '05 004 02 03': 31000,\n",
       " '07 057 00 01': 20100,\n",
       " 'S04 056 05 30': 50000,\n",
       " '05 007 01 24': 34600,\n",
       " 'S03 600 02 07': 96600,\n",
       " 'S03 400 08 11': 63600,\n",
       " 'S03 600 00 17': 151500,\n",
       " '07 110 00 01': 13500,\n",
       " '03 600 00 62': 4300,\n",
       " 'S04 037 02 12': 132700,\n",
       " '04 119 01 70': 156500,\n",
       " '00 700 20 01': 110800,\n",
       " '03 400 12 80': 105300,\n",
       " '09 230 01 21': 10400,\n",
       " '03 400 09 08': 43200,\n",
       " 'S04 175 02 77': 89600,\n",
       " '03 400 08 13': 46900,\n",
       " '03 600 07 21': 145200,\n",
       " 'S03 400 13 26': 43800,\n",
       " '04 230 01 98': 6800,\n",
       " '08 020 01 12': 13900,\n",
       " '10 003 02 01': 1500,\n",
       " 'S04 003 02 77': 89400,\n",
       " '07 108 00 02': 86300,\n",
       " '00 500 11 35': 67300,\n",
       " '03 400 09 51': 155500,\n",
       " 'S09 254 00 92': 126100,\n",
       " '04 094 01 45': 155600,\n",
       " '00 500 01 41': 10200,\n",
       " '03 400 13 22': 101100,\n",
       " '09 230 04 74': 65900,\n",
       " '06 801 95 45': 9600,\n",
       " '00 700 30 07': 81200,\n",
       " '04 044 01 08': 59900,\n",
       " 'S04 105 00 09': 149900,\n",
       " 'S03 600 01 22': 46300,\n",
       " 'S03 600 02 10': 58600,\n",
       " 'S04 116 00 09': 129800,\n",
       " '03 600 00 63': 62700,\n",
       " 'S04 081 02 29': 126800,\n",
       " '09 230 01 26': 1100,\n",
       " '05 002 01 13': 48000,\n",
       " '03 400 13 23': 64000,\n",
       " 'S03 400 13 32': 21200,\n",
       " '03 600 02 12': 27500,\n",
       " 'S03 600 07 34': 21800,\n",
       " 'S03 800 06 03': 3300,\n",
       " '00 700 00 07': 15800,\n",
       " 'S03 600 09 07': 148500,\n",
       " '04 357 02 77': 90400,\n",
       " 'S09 230 02 17': 158700,\n",
       " '08 020 06 10': 6500,\n",
       " 'S03 400 13 13': 158200,\n",
       " 'S03 600 14 22': 32900,\n",
       " '04 170 03 72': 147900,\n",
       " '03 400 13 13': 158300,\n",
       " '03 600 02 32': 40000,\n",
       " '04 801 95 05': 42900,\n",
       " '04 390 01 08': 61300,\n",
       " '04 056 05 30': 49900,\n",
       " '04 070 01 28': 104400,\n",
       " '03 600 02 51': 142700,\n",
       " '04 073 00 03': 142400,\n",
       " '04 149 05 27': 18000,\n",
       " '03 600 00 82': 24600,\n",
       " 'S04 917 04 95': 142900,\n",
       " 'S04 468 02 17': 44400,\n",
       " '00 500 01 34': 123800,\n",
       " 'S03 600 07 32': 112700,\n",
       " '04 194 01 88': 152600,\n",
       " 'S09 230 00 51': 78500,\n",
       " 'S03 600 06 20': 36300,\n",
       " 'S04 440 01 85': 7500,\n",
       " 'S03 600 06 28': 116800,\n",
       " '04 134 02 15': 23500,\n",
       " '04 383 05 07': 82900,\n",
       " '06 901 01 11': 138000,\n",
       " 'S03 600 02 37': 145700,\n",
       " '03 600 05 01': 67800,\n",
       " '03 400 08 12': 25600,\n",
       " 'S03 600 02 47': 141400,\n",
       " '03 600 00 06': 17500,\n",
       " '03 600 03 21': 28300,\n",
       " '03 600 00 41': 50200,\n",
       " 'S03 600 03 09': 25300,\n",
       " 'S04 404 04 81': 102800,\n",
       " '04 801 95 48': 7400,\n",
       " '06 801 95 18': 30600,\n",
       " 'S03 600 06 26': 116700,\n",
       " 'S03 600 13 11': 46100,\n",
       " '08 020 06 22': 65200,\n",
       " '04 440 01 82': 158500,\n",
       " 'S03 600 03 18': 55000,\n",
       " 'S04 230 00 41': 80900,\n",
       " 'S03 400 09 23': 11300,\n",
       " '03 600 02 56': 142300,\n",
       " 'S03 600 07 09': 42000,\n",
       " '04 379 02 77': 87000,\n",
       " 'S03 700 06 25': 40700,\n",
       " 'S04 230 00 68': 160300,\n",
       " '09 230 01 25': 106900,\n",
       " '08 020 06 14': 29600,\n",
       " '04 231 00 68': 71000,\n",
       " '06 801 95 48': 48600,\n",
       " '03 600 02 11': 13100,\n",
       " 'S09 231 01 44': 109700,\n",
       " '00 700 55 99': 21400,\n",
       " 'S04 057 02 14': 38300,\n",
       " '08 020 06 04': 51600,\n",
       " 'S03 600 09 06': 116000,\n",
       " 'S03 400 09 52': 79700,\n",
       " 'S04 131 00 09': 140500,\n",
       " 'S04 352 04 69': 150800,\n",
       " '03 600 03 09': 25200,\n",
       " '04 467 02 77': 84500,\n",
       " 'S03 400 13 08': 62300,\n",
       " 'S03 600 03 02': 37900,\n",
       " 'S04 383 02 12': 82800,\n",
       " '04 077 03 41': 125100,\n",
       " ...}"
      ]
     },
     "execution_count": 93,
     "metadata": {},
     "output_type": "execute_result"
    }
   ],
   "source": [
    "dic"
   ]
  },
  {
   "cell_type": "code",
   "execution_count": null,
   "metadata": {},
   "outputs": [],
   "source": []
  },
  {
   "cell_type": "code",
   "execution_count": 95,
   "metadata": {},
   "outputs": [
    {
     "name": "stderr",
     "output_type": "stream",
     "text": [
      "//anaconda3/envs/createnew/lib/python3.5/site-packages/ipykernel_launcher.py:1: SettingWithCopyWarning: \n",
      "A value is trying to be set on a copy of a slice from a DataFrame.\n",
      "Try using .loc[row_indexer,col_indexer] = value instead\n",
      "\n",
      "See the caveats in the documentation: http://pandas.pydata.org/pandas-docs/stable/indexing.html#indexing-view-versus-copy\n",
      "  \"\"\"Entry point for launching an IPython kernel.\n"
     ]
    }
   ],
   "source": [
    "findata['CODEINT'] = findata['CODE'].map(lambda name: dic[name])"
   ]
  },
  {
   "cell_type": "code",
   "execution_count": 1,
   "metadata": {},
   "outputs": [
    {
     "ename": "NameError",
     "evalue": "name 'findata' is not defined",
     "output_type": "error",
     "traceback": [
      "\u001b[0;31m---------------------------------------------------------------------------\u001b[0m",
      "\u001b[0;31mNameError\u001b[0m                                 Traceback (most recent call last)",
      "\u001b[0;32m<ipython-input-1-32d01774464f>\u001b[0m in \u001b[0;36m<module>\u001b[0;34m\u001b[0m\n\u001b[0;32m----> 1\u001b[0;31m \u001b[0mfindata\u001b[0m\u001b[0;34m.\u001b[0m\u001b[0mhead\u001b[0m\u001b[0;34m(\u001b[0m\u001b[0;34m)\u001b[0m\u001b[0;34m\u001b[0m\u001b[0;34m\u001b[0m\u001b[0m\n\u001b[0m",
      "\u001b[0;31mNameError\u001b[0m: name 'findata' is not defined"
     ]
    }
   ],
   "source": [
    "findata.head()"
   ]
  },
  {
   "cell_type": "code",
   "execution_count": 97,
   "metadata": {},
   "outputs": [],
   "source": [
    "import matplotlib.pyplot as plt"
   ]
  },
  {
   "cell_type": "code",
   "execution_count": 112,
   "metadata": {},
   "outputs": [
    {
     "data": {
      "image/png": "[encoded data removed]",
      "text/plain": [
       "<Figure size 1440x1080 with 1 Axes>"
      ]
     },
     "metadata": {
      "needs_background": "light"
     },
     "output_type": "display_data"
    }
   ],
   "source": [
    "plt.figure(figsize = (20,15))\n",
    "plt.plot(np.arange(100),np.array(findata['CODEINT'])[0:100])\n",
    "plt.yticks(np.array(findata['CODEINT'])[0:100],np.array(findata['CODE'])[0:100])\n",
    "plt.title('Occurrence of Error in Sequence')\n",
    "plt.show()"
   ]
  },
  {
   "cell_type": "code",
   "execution_count": null,
   "metadata": {},
   "outputs": [],
   "source": []
  },
  {
   "cell_type": "code",
   "execution_count": null,
   "metadata": {},
   "outputs": [],
   "source": []
  },
  {
   "cell_type": "code",
   "execution_count": null,
   "metadata": {},
   "outputs": [],
   "source": []
  },
  {
   "cell_type": "code",
   "execution_count": null,
   "metadata": {},
   "outputs": [],
   "source": []
  },
  {
   "cell_type": "code",
   "execution_count": null,
   "metadata": {},
   "outputs": [],
   "source": []
  },
  {
   "cell_type": "code",
   "execution_count": null,
   "metadata": {},
   "outputs": [],
   "source": []
  },
  {
   "cell_type": "code",
   "execution_count": null,
   "metadata": {},
   "outputs": [],
   "source": []
  },
  {
   "cell_type": "code",
   "execution_count": 6,
   "metadata": {},
   "outputs": [],
   "source": [
    "x = np.array(data.EVENTTIMESTAMP2)"
   ]
  },
  {
   "cell_type": "code",
   "execution_count": 7,
   "metadata": {},
   "outputs": [
    {
     "data": {
      "text/plain": [
       "numpy.ndarray"
      ]
     },
     "execution_count": 7,
     "metadata": {},
     "output_type": "execute_result"
    }
   ],
   "source": [
    "type(x)"
   ]
  },
  {
   "cell_type": "code",
   "execution_count": 9,
   "metadata": {},
   "outputs": [
    {
     "data": {
      "text/plain": [
       "'2019-10-30 05:47:21.347'"
      ]
     },
     "execution_count": 9,
     "metadata": {},
     "output_type": "execute_result"
    }
   ],
   "source": [
    "x[0]"
   ]
  },
  {
   "cell_type": "code",
   "execution_count": 34,
   "metadata": {},
   "outputs": [],
   "source": [
    "import time"
   ]
  },
  {
   "cell_type": "code",
   "execution_count": 45,
   "metadata": {},
   "outputs": [],
   "source": [
    "s = '2019-10-30 05:47:21.347'"
   ]
  },
  {
   "cell_type": "code",
   "execution_count": 48,
   "metadata": {},
   "outputs": [
    {
     "ename": "SyntaxError",
     "evalue": "invalid syntax (<ipython-input-48-8ad2d6761b1e>, line 1)",
     "output_type": "error",
     "traceback": [
      "\u001b[0;36m  File \u001b[0;32m\"<ipython-input-48-8ad2d6761b1e>\"\u001b[0;36m, line \u001b[0;32m1\u001b[0m\n\u001b[0;31m    s = [:(len(s)-3)]\u001b[0m\n\u001b[0m         ^\u001b[0m\n\u001b[0;31mSyntaxError\u001b[0m\u001b[0;31m:\u001b[0m invalid syntax\n"
     ]
    }
   ],
   "source": [
    "s = [:(len(s)-3)]"
   ]
  },
  {
   "cell_type": "code",
   "execution_count": 50,
   "metadata": {},
   "outputs": [],
   "source": [
    "x = time.strptime('2019-10-30 05:47:21.347','%Y-%m-%d %H:%M:%S.%f')"
   ]
  },
  {
   "cell_type": "code",
   "execution_count": 51,
   "metadata": {},
   "outputs": [
    {
     "data": {
      "text/plain": [
       "time.struct_time"
      ]
     },
     "execution_count": 51,
     "metadata": {},
     "output_type": "execute_result"
    }
   ],
   "source": [
    "type(x)"
   ]
  },
  {
   "cell_type": "code",
   "execution_count": 28,
   "metadata": {},
   "outputs": [],
   "source": []
  },
  {
   "cell_type": "code",
   "execution_count": 29,
   "metadata": {},
   "outputs": [
    {
     "name": "stdout",
     "output_type": "stream",
     "text": [
      "2 \n",
      "0 2\n",
      "1 20\n",
      "9 201\n",
      "- 2019\n",
      "1 \n",
      "0 1\n",
      "- 10\n",
      "3 \n",
      "0 3\n",
      "  30\n",
      "0 \n",
      "5 0\n",
      ": 05\n",
      "4 \n",
      "7 4\n",
      ": 47\n",
      "2 \n",
      "1 2\n",
      ". 21\n",
      "3 21.\n",
      "4 21.3\n",
      "7 21.34\n"
     ]
    },
    {
     "data": {
      "text/plain": [
       "2111"
      ]
     },
     "execution_count": 29,
     "metadata": {},
     "output_type": "execute_result"
    }
   ],
   "source": []
  },
  {
   "cell_type": "code",
   "execution_count": 10,
   "metadata": {},
   "outputs": [
    {
     "data": {
      "text/plain": [
       "<bound method Series.count of 0                 NaN\n",
       "1        05 003 01 17\n",
       "2        05 005 01 10\n",
       "3        10 003 02 01\n",
       "4        10 003 02 01\n",
       "5        05 002 02 02\n",
       "6       S04 900 05 06\n",
       "7        05 005 01 10\n",
       "8        05 005 01 13\n",
       "9                 NaN\n",
       "10       04 900 05 06\n",
       "11                NaN\n",
       "12       04 900 05 06\n",
       "13                NaN\n",
       "14       03 600 02 14\n",
       "15      S03 600 02 53\n",
       "16                NaN\n",
       "17       05 005 01 13\n",
       "18                NaN\n",
       "19       05 005 01 13\n",
       "20                NaN\n",
       "21       05 005 01 12\n",
       "22                NaN\n",
       "23                NaN\n",
       "24       05 002 02 01\n",
       "25                NaN\n",
       "26       03 600 03 17\n",
       "27                NaN\n",
       "28                NaN\n",
       "29                NaN\n",
       "            ...      \n",
       "9970     05 005 01 13\n",
       "9971     05 005 01 10\n",
       "9972              NaN\n",
       "9973     03 600 07 34\n",
       "9974     06 801 95 42\n",
       "9975     05 002 02 01\n",
       "9976     03 600 00 94\n",
       "9977     04 900 05 06\n",
       "9978     05 005 01 11\n",
       "9979    S04 900 05 06\n",
       "9980     10 003 02 01\n",
       "9981     05 003 03 12\n",
       "9982              NaN\n",
       "9983     05 003 03 12\n",
       "9984     05 005 01 11\n",
       "9985     05 004 01 01\n",
       "9986    S04 900 05 06\n",
       "9987     07 108 00 05\n",
       "9988     05 005 01 13\n",
       "9989    S07 108 00 03\n",
       "9990              NaN\n",
       "9991     05 005 01 13\n",
       "9992     05 004 02 01\n",
       "9993              NaN\n",
       "9994     05 004 01 01\n",
       "9995     05 004 02 01\n",
       "9996              NaN\n",
       "9997     05 005 01 13\n",
       "9998              NaN\n",
       "9999     05 004 02 01\n",
       "Name: CODE, Length: 10000, dtype: object>"
      ]
     },
     "execution_count": 10,
     "metadata": {},
     "output_type": "execute_result"
    }
   ],
   "source": [
    "data.CODE"
   ]
  },
  {
   "cell_type": "code",
   "execution_count": null,
   "metadata": {},
   "outputs": [],
   "source": [
    "\n",
    "    \n",
    "    \n",
    "    \n",
    "    "
   ]
  },
  {
   "cell_type": "code",
   "execution_count": 10,
   "metadata": {},
   "outputs": [
    {
     "data": {
      "text/plain": [
       "<bound method Series.unique of 0       Sample arrived at aspiration position: SID=<10...\n",
       "1       Cal-QC storage thermistors have the following ...\n",
       "2       Sample picking success in rack. Rack ID 006175...\n",
       "3                 State changed from Ready to Processing.\n",
       "4                 State changed from Ready to Processing.\n",
       "5       The SH cannot determine the characteristics of...\n",
       "6       SVC: Instrument Event Message\\n\\nModule Manage...\n",
       "7       Sample picking success in rack. Rack ID 012173...\n",
       "8       Sample placing success in carrier. Carrier ID ...\n",
       "9       Sample arrived at aspiration position: SID=<19...\n",
       "10      Module Manager received event notice:  Reagent...\n",
       "11      Reagent Pack P12705910001050 energy 24300 rais...\n",
       "12      Module Manager received event notice:  Autoche...\n",
       "13      Successful aspiration: SID=<050772102101>, tes...\n",
       "14      Sample SID 55614 did not arrive at aspiration ...\n",
       "15      SVC: ESL unload activity completed: Time = 157...\n",
       "16      Sample arrived at aspiration position: SID=<05...\n",
       "17      Sample placing success in carrier. Carrier ID ...\n",
       "18      Reagent Pack P17402610001566 energy 129750 rai...\n",
       "19      Sample placing success in carrier. Carrier ID ...\n",
       "20      Reagent Pack P11434411004147 energy 32550 rais...\n",
       "21      Sample picking success in carrier. Carrier ID ...\n",
       "22                                     Masked Information\n",
       "23      Successful aspiration: SID=<059871130601>, tes...\n",
       "24      Tube characteristics (in mm): height above rac...\n",
       "25      Isolated spike was removed from flash curve fo...\n",
       "26      The rotational driver of the IM sample probe i...\n",
       "27      Order received for sample(s): SID=<05987159240...\n",
       "28      Sample arrived at aspiration position: SID=<82...\n",
       "29      Sample arrived at aspiration position: SID=<91...\n",
       "                              ...                        \n",
       "9970    Sample placing success in carrier. Carrier ID ...\n",
       "9971    Sample picking success in rack. Rack ID 006939...\n",
       "9972    Sample added to logical IPQ: SID=<3273934>, Ti...\n",
       "9973    Reagent pack P06231920001508 is not sufficient...\n",
       "9974    Load calibrator for material name Ampcal500, m...\n",
       "9975    Tube characteristics (in mm): height above rac...\n",
       "9976            IMReagentCompartment subsystem is online.\n",
       "9977    Module Manager received event notice:  Autoche...\n",
       "9978    Sample placing success in rack. Rack ID 009443...\n",
       "9979    SVC: Instrument Event Message\\n\\nModule Manage...\n",
       "9980              State changed from Ready to Processing.\n",
       "9981    Cal-QC tube cover placing success in Cal-QC st...\n",
       "9982    Sample added to logical IPQ: SID=<058728911801...\n",
       "9983    Cal-QC tube cover placing success in Cal-QC st...\n",
       "9984    Sample placing success in rack. Rack ID 009228...\n",
       "9985           SH state changed from Ready to Processing.\n",
       "9986    SVC: Instrument Event Message\\n\\nModule Manage...\n",
       "9987       Tube characteristic information 1911956362201.\n",
       "9988    Sample placing success in carrier. Carrier ID ...\n",
       "9989    SVC: Tube characterization station read an inv...\n",
       "9990    Order received for sample(s): SID=<05872796680...\n",
       "9991    Sample placing success in carrier. Carrier ID ...\n",
       "9992    Received transition request from state Ready t...\n",
       "9993    Reagent Pack P06231920001089 energy 63720 drop...\n",
       "9994              SH state changed from Ready to Standby.\n",
       "9995    Received transition request from state Ready t...\n",
       "9996    Successful aspiration: SID=<19103025541>, test...\n",
       "9997    Sample placing success in carrier. Carrier ID ...\n",
       "9998    Successful aspiration: SID=<052698866501>, tes...\n",
       "9999    Received transition request from state Ready t...\n",
       "Name: EVENTDATA, Length: 10000, dtype: object>"
      ]
     },
     "execution_count": 10,
     "metadata": {},
     "output_type": "execute_result"
    }
   ],
   "source": [
    "data.EVENTDATA.unique"
   ]
  },
  {
   "cell_type": "code",
   "execution_count": 3,
   "metadata": {},
   "outputs": [
    {
     "data": {
      "text/plain": [
       "array(['Customer Site                                ', nan,\n",
       "       'Training Center                              ',\n",
       "       'Other                                        ',\n",
       "       'Show Room                                    '], dtype=object)"
      ]
     },
     "execution_count": 3,
     "metadata": {},
     "output_type": "execute_result"
    }
   ],
   "source": [
    "data.CUSTOMER_CATEGORY.unique()"
   ]
  },
  {
   "cell_type": "code",
   "execution_count": 14,
   "metadata": {},
   "outputs": [
    {
     "data": {
      "text/plain": [
       "2"
      ]
     },
     "execution_count": 14,
     "metadata": {},
     "output_type": "execute_result"
    }
   ],
   "source": [
    "len(data.SEVERITY.unique())"
   ]
  },
  {
   "cell_type": "code",
   "execution_count": null,
   "metadata": {},
   "outputs": [],
   "source": [
    "#  1. CONVERT THE TIME DATA INTO A TIME OBJECT \n",
    "# 2. CONVER TINTEGER OBEJECTS INTO STRINGS\n",
    "# 3. SEPARTATE BASED ON CUTMOER SITE\n",
    "# 4. FIGURE OUT A DATABASE\n"
   ]
  },
  {
   "cell_type": "code",
   "execution_count": 15,
   "metadata": {},
   "outputs": [
    {
     "data": {
      "text/plain": [
       "316"
      ]
     },
     "execution_count": 15,
     "metadata": {},
     "output_type": "execute_result"
    }
   ],
   "source": [
    "len(data.CODE.unique())"
   ]
  },
  {
   "cell_type": "code",
   "execution_count": 7,
   "metadata": {},
   "outputs": [
    {
     "data": {
      "text/plain": [
       "0       2019-10-30 05:47:21.347\n",
       "1       2019-10-30 03:53:37.290\n",
       "2       2019-10-30 07:56:38.640\n",
       "3       2019-10-30 08:38:51.350\n",
       "4       2019-10-30 08:14:02.750\n",
       "5       2019-10-30 19:23:26.480\n",
       "6       2019-10-30 03:04:04.743\n",
       "7       2019-10-30 08:10:35.490\n",
       "8       2019-10-30 10:44:55.530\n",
       "9       2019-10-30 14:16:13.640\n",
       "10      2019-10-30 09:25:57.897\n",
       "11      2019-10-30 14:56:56.590\n",
       "12      2019-10-30 17:42:13.610\n",
       "13      2019-10-30 07:52:29.687\n",
       "14      2019-10-30 15:20:06.430\n",
       "15      2019-10-30 18:12:51.600\n",
       "16      2019-10-30 16:35:18.070\n",
       "17      2019-10-30 13:32:44.690\n",
       "18      2019-10-30 04:31:15.850\n",
       "19      2019-10-30 16:34:21.960\n",
       "20      2019-10-30 07:03:22.147\n",
       "21      2019-10-30 02:56:03.830\n",
       "22      2019-10-30 10:08:52.213\n",
       "23      2019-10-30 07:55:44.987\n",
       "24      2019-10-30 07:22:10.560\n",
       "25      2019-10-30 04:33:56.753\n",
       "26      2019-10-30 12:05:17.983\n",
       "27      2019-10-30 10:33:18.107\n",
       "28      2019-10-30 22:39:16.900\n",
       "29      2019-10-30 11:45:44.670\n",
       "                 ...           \n",
       "9970    2019-10-30 09:34:30.880\n",
       "9971    2019-10-30 13:54:24.960\n",
       "9972    2019-10-30 17:07:50.807\n",
       "9973    2019-10-30 20:42:04.597\n",
       "9974    2019-10-30 11:51:40.507\n",
       "9975    2019-10-30 16:39:00.250\n",
       "9976    2019-10-30 17:54:11.603\n",
       "9977    2019-10-30 02:02:51.903\n",
       "9978    2019-10-30 16:16:08.460\n",
       "9979    2019-10-30 02:01:11.870\n",
       "9980    2019-10-30 02:43:29.950\n",
       "9981    2019-10-30 12:56:00.600\n",
       "9982    2019-10-30 11:25:56.197\n",
       "9983    2019-10-30 02:33:53.030\n",
       "9984    2019-10-30 15:34:25.800\n",
       "9985    2019-10-30 10:02:31.900\n",
       "9986    2019-10-30 11:29:56.547\n",
       "9987    2019-10-30 18:34:47.687\n",
       "9988    2019-10-30 23:15:43.880\n",
       "9989    2019-10-30 09:55:47.613\n",
       "9990    2019-10-30 12:06:56.043\n",
       "9991    2019-10-30 03:21:02.600\n",
       "9992    2019-10-30 08:06:55.750\n",
       "9993    2019-10-30 20:27:38.897\n",
       "9994    2019-10-30 09:00:59.510\n",
       "9995    2019-10-30 08:39:25.120\n",
       "9996    2019-10-30 16:44:35.590\n",
       "9997    2019-10-30 15:11:52.700\n",
       "9998    2019-10-30 00:11:22.663\n",
       "9999    2019-10-30 08:19:02.420\n",
       "Name: EVENTTIMESTAMP2, Length: 10000, dtype: object"
      ]
     },
     "execution_count": 7,
     "metadata": {},
     "output_type": "execute_result"
    }
   ],
   "source": [
    "data['EVENTTIMESTAMP2']"
   ]
  },
  {
   "cell_type": "code",
   "execution_count": 8,
   "metadata": {},
   "outputs": [
    {
     "data": {
      "text/plain": [
       "Index(['Unnamed: 0', 'EVENTTIMESTAMP2', 'SERIAL_NUMBER', 'SEVERITY', 'CODE',\n",
       "       'EVENTDATA', 'AS_CONFIG_ID', 'AUTOMATION', 'CUSTOMER_CATEGORY',\n",
       "       'SW_VERSION_SRS'],\n",
       "      dtype='object')"
      ]
     },
     "execution_count": 8,
     "metadata": {},
     "output_type": "execute_result"
    }
   ],
   "source": [
    "data.columns"
   ]
  },
  {
   "cell_type": "code",
   "execution_count": 9,
   "metadata": {},
   "outputs": [
    {
     "data": {
      "text/html": [
       "<div>\n",
       "<style scoped>\n",
       "    .dataframe tbody tr th:only-of-type {\n",
       "        vertical-align: middle;\n",
       "    }\n",
       "\n",
       "    .dataframe tbody tr th {\n",
       "        vertical-align: top;\n",
       "    }\n",
       "\n",
       "    .dataframe thead th {\n",
       "        text-align: right;\n",
       "    }\n",
       "</style>\n",
       "<table border=\"1\" class=\"dataframe\">\n",
       "  <thead>\n",
       "    <tr style=\"text-align: right;\">\n",
       "      <th></th>\n",
       "      <th>Unnamed: 0</th>\n",
       "      <th>EVENTTIMESTAMP2</th>\n",
       "      <th>SERIAL_NUMBER</th>\n",
       "      <th>SEVERITY</th>\n",
       "      <th>CODE</th>\n",
       "      <th>EVENTDATA</th>\n",
       "      <th>AS_CONFIG_ID</th>\n",
       "      <th>AUTOMATION</th>\n",
       "      <th>CUSTOMER_CATEGORY</th>\n",
       "      <th>SW_VERSION_SRS</th>\n",
       "    </tr>\n",
       "  </thead>\n",
       "  <tbody>\n",
       "    <tr>\n",
       "      <th>count</th>\n",
       "      <td>10000.000000</td>\n",
       "      <td>10000</td>\n",
       "      <td>10000</td>\n",
       "      <td>469</td>\n",
       "      <td>7361</td>\n",
       "      <td>9963</td>\n",
       "      <td>9768</td>\n",
       "      <td>9768</td>\n",
       "      <td>9768</td>\n",
       "      <td>9705</td>\n",
       "    </tr>\n",
       "    <tr>\n",
       "      <th>unique</th>\n",
       "      <td>NaN</td>\n",
       "      <td>9996</td>\n",
       "      <td>1688</td>\n",
       "      <td>1</td>\n",
       "      <td>315</td>\n",
       "      <td>8241</td>\n",
       "      <td>568</td>\n",
       "      <td>2</td>\n",
       "      <td>4</td>\n",
       "      <td>10</td>\n",
       "    </tr>\n",
       "    <tr>\n",
       "      <th>top</th>\n",
       "      <td>NaN</td>\n",
       "      <td>2019-10-30 08:33:10.960</td>\n",
       "      <td>SP00240</td>\n",
       "      <td>Error</td>\n",
       "      <td>05 002 02 01</td>\n",
       "      <td>Received transition request from state Ready t...</td>\n",
       "      <td>AS_SP00416_SSCII</td>\n",
       "      <td>False</td>\n",
       "      <td>Customer Site</td>\n",
       "      <td>1.20.1.3451002</td>\n",
       "    </tr>\n",
       "    <tr>\n",
       "      <th>freq</th>\n",
       "      <td>NaN</td>\n",
       "      <td>2</td>\n",
       "      <td>47</td>\n",
       "      <td>469</td>\n",
       "      <td>720</td>\n",
       "      <td>81</td>\n",
       "      <td>148</td>\n",
       "      <td>5382</td>\n",
       "      <td>9742</td>\n",
       "      <td>5329</td>\n",
       "    </tr>\n",
       "    <tr>\n",
       "      <th>mean</th>\n",
       "      <td>4999.786700</td>\n",
       "      <td>NaN</td>\n",
       "      <td>NaN</td>\n",
       "      <td>NaN</td>\n",
       "      <td>NaN</td>\n",
       "      <td>NaN</td>\n",
       "      <td>NaN</td>\n",
       "      <td>NaN</td>\n",
       "      <td>NaN</td>\n",
       "      <td>NaN</td>\n",
       "    </tr>\n",
       "    <tr>\n",
       "      <th>std</th>\n",
       "      <td>2887.249921</td>\n",
       "      <td>NaN</td>\n",
       "      <td>NaN</td>\n",
       "      <td>NaN</td>\n",
       "      <td>NaN</td>\n",
       "      <td>NaN</td>\n",
       "      <td>NaN</td>\n",
       "      <td>NaN</td>\n",
       "      <td>NaN</td>\n",
       "      <td>NaN</td>\n",
       "    </tr>\n",
       "    <tr>\n",
       "      <th>min</th>\n",
       "      <td>0.000000</td>\n",
       "      <td>NaN</td>\n",
       "      <td>NaN</td>\n",
       "      <td>NaN</td>\n",
       "      <td>NaN</td>\n",
       "      <td>NaN</td>\n",
       "      <td>NaN</td>\n",
       "      <td>NaN</td>\n",
       "      <td>NaN</td>\n",
       "      <td>NaN</td>\n",
       "    </tr>\n",
       "    <tr>\n",
       "      <th>25%</th>\n",
       "      <td>2499.750000</td>\n",
       "      <td>NaN</td>\n",
       "      <td>NaN</td>\n",
       "      <td>NaN</td>\n",
       "      <td>NaN</td>\n",
       "      <td>NaN</td>\n",
       "      <td>NaN</td>\n",
       "      <td>NaN</td>\n",
       "      <td>NaN</td>\n",
       "      <td>NaN</td>\n",
       "    </tr>\n",
       "    <tr>\n",
       "      <th>50%</th>\n",
       "      <td>4999.500000</td>\n",
       "      <td>NaN</td>\n",
       "      <td>NaN</td>\n",
       "      <td>NaN</td>\n",
       "      <td>NaN</td>\n",
       "      <td>NaN</td>\n",
       "      <td>NaN</td>\n",
       "      <td>NaN</td>\n",
       "      <td>NaN</td>\n",
       "      <td>NaN</td>\n",
       "    </tr>\n",
       "    <tr>\n",
       "      <th>75%</th>\n",
       "      <td>7500.250000</td>\n",
       "      <td>NaN</td>\n",
       "      <td>NaN</td>\n",
       "      <td>NaN</td>\n",
       "      <td>NaN</td>\n",
       "      <td>NaN</td>\n",
       "      <td>NaN</td>\n",
       "      <td>NaN</td>\n",
       "      <td>NaN</td>\n",
       "      <td>NaN</td>\n",
       "    </tr>\n",
       "    <tr>\n",
       "      <th>max</th>\n",
       "      <td>10000.000000</td>\n",
       "      <td>NaN</td>\n",
       "      <td>NaN</td>\n",
       "      <td>NaN</td>\n",
       "      <td>NaN</td>\n",
       "      <td>NaN</td>\n",
       "      <td>NaN</td>\n",
       "      <td>NaN</td>\n",
       "      <td>NaN</td>\n",
       "      <td>NaN</td>\n",
       "    </tr>\n",
       "  </tbody>\n",
       "</table>\n",
       "</div>"
      ],
      "text/plain": [
       "          Unnamed: 0          EVENTTIMESTAMP2 SERIAL_NUMBER SEVERITY  \\\n",
       "count   10000.000000                    10000         10000      469   \n",
       "unique           NaN                     9996          1688        1   \n",
       "top              NaN  2019-10-30 08:33:10.960       SP00240    Error   \n",
       "freq             NaN                        2            47      469   \n",
       "mean     4999.786700                      NaN           NaN      NaN   \n",
       "std      2887.249921                      NaN           NaN      NaN   \n",
       "min         0.000000                      NaN           NaN      NaN   \n",
       "25%      2499.750000                      NaN           NaN      NaN   \n",
       "50%      4999.500000                      NaN           NaN      NaN   \n",
       "75%      7500.250000                      NaN           NaN      NaN   \n",
       "max     10000.000000                      NaN           NaN      NaN   \n",
       "\n",
       "                CODE                                          EVENTDATA  \\\n",
       "count           7361                                               9963   \n",
       "unique           315                                               8241   \n",
       "top     05 002 02 01  Received transition request from state Ready t...   \n",
       "freq             720                                                 81   \n",
       "mean             NaN                                                NaN   \n",
       "std              NaN                                                NaN   \n",
       "min              NaN                                                NaN   \n",
       "25%              NaN                                                NaN   \n",
       "50%              NaN                                                NaN   \n",
       "75%              NaN                                                NaN   \n",
       "max              NaN                                                NaN   \n",
       "\n",
       "            AS_CONFIG_ID AUTOMATION  \\\n",
       "count               9768       9768   \n",
       "unique               568          2   \n",
       "top     AS_SP00416_SSCII      False   \n",
       "freq                 148       5382   \n",
       "mean                 NaN        NaN   \n",
       "std                  NaN        NaN   \n",
       "min                  NaN        NaN   \n",
       "25%                  NaN        NaN   \n",
       "50%                  NaN        NaN   \n",
       "75%                  NaN        NaN   \n",
       "max                  NaN        NaN   \n",
       "\n",
       "                                    CUSTOMER_CATEGORY  SW_VERSION_SRS  \n",
       "count                                            9768            9705  \n",
       "unique                                              4              10  \n",
       "top     Customer Site                                  1.20.1.3451002  \n",
       "freq                                             9742            5329  \n",
       "mean                                              NaN             NaN  \n",
       "std                                               NaN             NaN  \n",
       "min                                               NaN             NaN  \n",
       "25%                                               NaN             NaN  \n",
       "50%                                               NaN             NaN  \n",
       "75%                                               NaN             NaN  \n",
       "max                                               NaN             NaN  "
      ]
     },
     "execution_count": 9,
     "metadata": {},
     "output_type": "execute_result"
    }
   ],
   "source": [
    "data.describe(include = 'all')"
   ]
  },
  {
   "cell_type": "code",
   "execution_count": 5,
   "metadata": {},
   "outputs": [
    {
     "data": {
      "text/plain": [
       "'Cal-QC storage thermistors have the following temperatures: thermistor Thermistor1, temperature 3.500; thermistor Thermistor2, temperature 3.490; thermistor:Thermistor3, temperature 3.493.'"
      ]
     },
     "execution_count": 5,
     "metadata": {},
     "output_type": "execute_result"
    }
   ],
   "source": [
    "data['EVENTDATA'][1]\n"
   ]
  },
  {
   "cell_type": "code",
   "execution_count": 28,
   "metadata": {},
   "outputs": [
    {
     "data": {
      "text/plain": [
       "array([nan, 'Error'], dtype=object)"
      ]
     },
     "execution_count": 28,
     "metadata": {},
     "output_type": "execute_result"
    }
   ],
   "source": [
    "data.SEVERITY.unique()"
   ]
  },
  {
   "cell_type": "code",
   "execution_count": 26,
   "metadata": {},
   "outputs": [
    {
     "data": {
      "text/plain": [
       "Unnamed: 0              0\n",
       "EVENTTIMESTAMP2         0\n",
       "SERIAL_NUMBER           0\n",
       "SEVERITY             9531\n",
       "CODE                 2639\n",
       "EVENTDATA              37\n",
       "AS_CONFIG_ID          232\n",
       "AUTOMATION            232\n",
       "CUSTOMER_CATEGORY     232\n",
       "SW_VERSION_SRS        295\n",
       "dtype: int64"
      ]
     },
     "execution_count": 26,
     "metadata": {},
     "output_type": "execute_result"
    }
   ],
   "source": [
    "data.isnull().sum()"
   ]
  },
  {
   "cell_type": "code",
   "execution_count": 46,
   "metadata": {},
   "outputs": [
    {
     "data": {
      "text/plain": [
       "RangeIndex(start=0, stop=10000, step=1)"
      ]
     },
     "execution_count": 46,
     "metadata": {},
     "output_type": "execute_result"
    }
   ],
   "source": [
    "data.index"
   ]
  },
  {
   "cell_type": "code",
   "execution_count": 29,
   "metadata": {},
   "outputs": [],
   "source": [
    "from sqlalchemy import create_engine"
   ]
  },
  {
   "cell_type": "code",
   "execution_count": 30,
   "metadata": {},
   "outputs": [],
   "source": [
    "csv_database = create_engine('sqlite:///csv_database.db')"
   ]
  },
  {
   "cell_type": "code",
   "execution_count": 31,
   "metadata": {},
   "outputs": [],
   "source": [
    "file = '/users/user/Desktop/Simensproject/eventdata.csv'"
   ]
  },
  {
   "cell_type": "code",
   "execution_count": 32,
   "metadata": {},
   "outputs": [],
   "source": [
    "chunksize = 100000\n",
    "i = 0\n",
    "j = 1\n",
    "for df in pd.read_csv(file, chunksize=chunksize, iterator=True):\n",
    "      df = df.rename(columns={c: c.replace(' ', '') for c in df.columns}) \n",
    "      df.index += j\n",
    "      i+=1\n",
    "      df.to_sql('table', csv_database, if_exists='append')\n",
    "      j = df.index[-1] + 1"
   ]
  },
  {
   "cell_type": "code",
   "execution_count": 41,
   "metadata": {},
   "outputs": [
    {
     "data": {
      "text/plain": [
       "Engine(sqlite:///csv_database.db)"
      ]
     },
     "execution_count": 41,
     "metadata": {},
     "output_type": "execute_result"
    }
   ],
   "source": [
    "csv_database"
   ]
  },
  {
   "cell_type": "code",
   "execution_count": 26,
   "metadata": {},
   "outputs": [
    {
     "name": "stdout",
     "output_type": "stream",
     "text": [
      "Requirement already satisfied: pyodbc in /anaconda3/lib/python3.7/site-packages (4.0.26)\n",
      "Note: you may need to restart the kernel to use updated packages.\n"
     ]
    }
   ],
   "source": [
    "pip install pyodbc"
   ]
  },
  {
   "cell_type": "code",
   "execution_count": 27,
   "metadata": {},
   "outputs": [],
   "source": [
    "import pyodbc"
   ]
  },
  {
   "cell_type": "code",
   "execution_count": 29,
   "metadata": {},
   "outputs": [
    {
     "ename": "NameError",
     "evalue": "name 'server' is not defined",
     "output_type": "error",
     "traceback": [
      "\u001b[0;31m---------------------------------------------------------------------------\u001b[0m",
      "\u001b[0;31mNameError\u001b[0m                                 Traceback (most recent call last)",
      "\u001b[0;32m<ipython-input-29-93bf6efcc578>\u001b[0m in \u001b[0;36m<module>\u001b[0;34m\u001b[0m\n\u001b[0;32m----> 1\u001b[0;31m \u001b[0mcnxn\u001b[0m \u001b[0;34m=\u001b[0m \u001b[0mpyodbc\u001b[0m\u001b[0;34m.\u001b[0m\u001b[0mconnect\u001b[0m\u001b[0;34m(\u001b[0m\u001b[0;34m'DRIVER={ODBC Driver 17 for SQL Server};SERVER='\u001b[0m\u001b[0;34m+\u001b[0m\u001b[0mserver\u001b[0m\u001b[0;34m+\u001b[0m\u001b[0;34m';DATABASE='\u001b[0m\u001b[0;34m+\u001b[0m\u001b[0mdatabase\u001b[0m\u001b[0;34m+\u001b[0m\u001b[0;34m';UID='\u001b[0m\u001b[0;34m+\u001b[0m\u001b[0musername\u001b[0m\u001b[0;34m+\u001b[0m\u001b[0;34m';PWD='\u001b[0m\u001b[0;34m+\u001b[0m \u001b[0mpassword\u001b[0m\u001b[0;34m)\u001b[0m\u001b[0;34m\u001b[0m\u001b[0;34m\u001b[0m\u001b[0m\n\u001b[0m",
      "\u001b[0;31mNameError\u001b[0m: name 'server' is not defined"
     ]
    }
   ],
   "source": [
    "server = '\\c\n",
    "cnxn = pyodbc.connect('DRIVER={ODBC Driver 17 for SQL Server};SERVER='+server+';DATABASE='+database+';UID='+username+';PWD='+ password)"
   ]
  },
  {
   "cell_type": "code",
   "execution_count": 11,
   "metadata": {},
   "outputs": [
    {
     "ename": "NameError",
     "evalue": "name 'csv_database' is not defined",
     "output_type": "error",
     "traceback": [
      "\u001b[0;31m---------------------------------------------------------------------------\u001b[0m",
      "\u001b[0;31mNameError\u001b[0m                                 Traceback (most recent call last)",
      "\u001b[0;32m<ipython-input-11-38c89c4486e6>\u001b[0m in \u001b[0;36m<module>\u001b[0;34m\u001b[0m\n\u001b[0;32m----> 1\u001b[0;31m \u001b[0mdata\u001b[0m \u001b[0;34m=\u001b[0m \u001b[0mpd\u001b[0m\u001b[0;34m.\u001b[0m\u001b[0mread_sql\u001b[0m\u001b[0;34m(\u001b[0m\u001b[0;34m'''select CODE'''\u001b[0m\u001b[0;34m,\u001b[0m \u001b[0mcsv_database\u001b[0m\u001b[0;34m)\u001b[0m\u001b[0;34m\u001b[0m\u001b[0;34m\u001b[0m\u001b[0m\n\u001b[0m",
      "\u001b[0;31mNameError\u001b[0m: name 'csv_database' is not defined"
     ]
    }
   ],
   "source": [
    "data = pd.read_sql('''select CODE''', csv_database)"
   ]
  },
  {
   "cell_type": "code",
   "execution_count": 34,
   "metadata": {},
   "outputs": [],
   "source": [
    "a = [1,2,3,4,5]\n"
   ]
  },
  {
   "cell_type": "code",
   "execution_count": 35,
   "metadata": {},
   "outputs": [
    {
     "data": {
      "text/plain": [
       "1"
      ]
     },
     "execution_count": 35,
     "metadata": {},
     "output_type": "execute_result"
    }
   ],
   "source": [
    "a.pop(0)"
   ]
  },
  {
   "cell_type": "code",
   "execution_count": 36,
   "metadata": {},
   "outputs": [
    {
     "data": {
      "text/plain": [
       "[2, 3, 4, 5]"
      ]
     },
     "execution_count": 36,
     "metadata": {},
     "output_type": "execute_result"
    }
   ],
   "source": [
    "a"
   ]
  },
  {
   "cell_type": "code",
   "execution_count": 39,
   "metadata": {},
   "outputs": [
    {
     "name": "stdout",
     "output_type": "stream",
     "text": [
      "1\n"
     ]
    }
   ],
   "source": [
    "print(-1%5)"
   ]
  },
  {
   "cell_type": "code",
   "execution_count": 45,
   "metadata": {},
   "outputs": [],
   "source": [
    "a = [1,2,2,5,6,7]\n"
   ]
  },
  {
   "cell_type": "code",
   "execution_count": 46,
   "metadata": {},
   "outputs": [],
   "source": [
    "dic = {}\n",
    "for i in range(len(a)):\n",
    "    if a[i] not in dic.keys():\n",
    "        dic[a[i]] = [i]\n",
    "    else:\n",
    "        dic[a[i]].append(i)"
   ]
  },
  {
   "cell_type": "code",
   "execution_count": 47,
   "metadata": {},
   "outputs": [
    {
     "data": {
      "text/plain": [
       "{1: [0], 2: [1, 2], 5: [3], 6: [4], 7: [5]}"
      ]
     },
     "execution_count": 47,
     "metadata": {},
     "output_type": "execute_result"
    }
   ],
   "source": [
    "dic"
   ]
  },
  {
   "cell_type": "code",
   "execution_count": 77,
   "metadata": {},
   "outputs": [],
   "source": [
    "def lengthOfLongestSubstring(s) -> int:\n",
    "        size = len(s)\n",
    "        count = 0\n",
    "        max = 0 \n",
    "        dic = {}\n",
    "        for i in range(size):\n",
    "            if s[i] not in dic:\n",
    "                count = count + 1\n",
    "                dic[s[i]] = count \n",
    "                print(dic)\n",
    "                print(count)\n",
    "                \n",
    "                \n",
    "            else:    \n",
    "                if s[i] in dic:\n",
    "                    print('execute')\n",
    "                    val = dic[s[i]]\n",
    "                    count = count-val\n",
    "                    count = count +1\n",
    "                    dic[s[i]] = count\n",
    "                    a = list(dic.keys())\n",
    "                    for key in a:\n",
    "                        if dic[key] <=val:\n",
    "                            del dic[key]\n",
    "                            print('delete')\n",
    "                    print(count)\n",
    "                    print(dic)\n",
    "                \n",
    "            if count > max:\n",
    "                    max = count-1\n",
    "            \n",
    "        return max\n",
    "    "
   ]
  },
  {
   "cell_type": "code",
   "execution_count": 80,
   "metadata": {},
   "outputs": [
    {
     "name": "stdout",
     "output_type": "stream",
     "text": [
      "{'a': 1}\n",
      "1\n",
      "execute\n",
      "delete\n",
      "1\n",
      "{}\n",
      "{'b': 2}\n",
      "2\n"
     ]
    },
    {
     "data": {
      "text/plain": [
       "1"
      ]
     },
     "execution_count": 80,
     "metadata": {},
     "output_type": "execute_result"
    }
   ],
   "source": [
    "s = 'aab'\n",
    "lengthOfLongestSubstring(s)"
   ]
  },
  {
   "cell_type": "code",
   "execution_count": 95,
   "metadata": {},
   "outputs": [],
   "source": [
    "a = -123\n",
    "    "
   ]
  },
  {
   "cell_type": "code",
   "execution_count": 96,
   "metadata": {},
   "outputs": [],
   "source": [
    "a = abs(a)"
   ]
  },
  {
   "cell_type": "code",
   "execution_count": 98,
   "metadata": {},
   "outputs": [
    {
     "data": {
      "text/plain": [
       "1"
      ]
     },
     "execution_count": 98,
     "metadata": {},
     "output_type": "execute_result"
    }
   ],
   "source": [
    "(a//100)"
   ]
  },
  {
   "cell_type": "code",
   "execution_count": 99,
   "metadata": {},
   "outputs": [
    {
     "data": {
      "text/plain": [
       "5"
      ]
     },
     "execution_count": 99,
     "metadata": {},
     "output_type": "execute_result"
    }
   ],
   "source": [
    "123//(a-100)"
   ]
  },
  {
   "cell_type": "code",
   "execution_count": 101,
   "metadata": {},
   "outputs": [
    {
     "data": {
      "text/plain": [
       "123"
      ]
     },
     "execution_count": 101,
     "metadata": {},
     "output_type": "execute_result"
    }
   ],
   "source": [
    "1*100 + 2*10 + 3*1\n"
   ]
  },
  {
   "cell_type": "code",
   "execution_count": 104,
   "metadata": {},
   "outputs": [],
   "source": [
    "y = list(str(a))"
   ]
  },
  {
   "cell_type": "code",
   "execution_count": 105,
   "metadata": {},
   "outputs": [],
   "source": [
    "y.reverse()"
   ]
  },
  {
   "cell_type": "code",
   "execution_count": 106,
   "metadata": {},
   "outputs": [
    {
     "data": {
      "text/plain": [
       "['3', '2', '1']"
      ]
     },
     "execution_count": 106,
     "metadata": {},
     "output_type": "execute_result"
    }
   ],
   "source": [
    "y"
   ]
  },
  {
   "cell_type": "code",
   "execution_count": 110,
   "metadata": {},
   "outputs": [],
   "source": [
    "x = ''.join(y)"
   ]
  },
  {
   "cell_type": "code",
   "execution_count": 111,
   "metadata": {},
   "outputs": [
    {
     "data": {
      "text/plain": [
       "str"
      ]
     },
     "execution_count": 111,
     "metadata": {},
     "output_type": "execute_result"
    }
   ],
   "source": [
    "type(x)"
   ]
  },
  {
   "cell_type": "code",
   "execution_count": 112,
   "metadata": {},
   "outputs": [
    {
     "data": {
      "text/plain": [
       "'321'"
      ]
     },
     "execution_count": 112,
     "metadata": {},
     "output_type": "execute_result"
    }
   ],
   "source": [
    "x"
   ]
  },
  {
   "cell_type": "code",
   "execution_count": 113,
   "metadata": {},
   "outputs": [],
   "source": [
    "a = 123\n",
    "r = []\n",
    "q = 123\n",
    "\n",
    "while(q!=0):\n",
    "    \n",
    "    quo = q//10\n",
    "    rem = q%10\n",
    "    r.append(rem)\n",
    "    q = quo\n",
    "\n",
    "    \n",
    "    \n",
    "    \n",
    "    \n",
    "    \n",
    "    \n",
    "    \n",
    "    "
   ]
  },
  {
   "cell_type": "code",
   "execution_count": 117,
   "metadata": {},
   "outputs": [],
   "source": [
    "x = 2**31"
   ]
  },
  {
   "cell_type": "code",
   "execution_count": 115,
   "metadata": {},
   "outputs": [
    {
     "ename": "SyntaxError",
     "evalue": "invalid syntax (<ipython-input-115-c2c6e49dbc35>, line 1)",
     "output_type": "error",
     "traceback": [
      "\u001b[0;36m  File \u001b[0;32m\"<ipython-input-115-c2c6e49dbc35>\"\u001b[0;36m, line \u001b[0;32m1\u001b[0m\n\u001b[0;31m    if (x == 0) or (x<=2ˆ(31)-1) or (x>=-2ˆ(31)):\u001b[0m\n\u001b[0m                        ^\u001b[0m\n\u001b[0;31mSyntaxError\u001b[0m\u001b[0;31m:\u001b[0m invalid syntax\n"
     ]
    }
   ],
   "source": [
    "if (x == 0) or (x<=2ˆ(31)-1) or (x>=-2ˆ(31)):\n",
    "            return 0"
   ]
  },
  {
   "cell_type": "code",
   "execution_count": 120,
   "metadata": {},
   "outputs": [
    {
     "data": {
      "text/plain": [
       "False"
      ]
     },
     "execution_count": 120,
     "metadata": {},
     "output_type": "execute_result"
    }
   ],
   "source": [
    "1534236469 > 2**31"
   ]
  },
  {
   "cell_type": "code",
   "execution_count": 119,
   "metadata": {},
   "outputs": [
    {
     "data": {
      "text/plain": [
       "2147483648"
      ]
     },
     "execution_count": 119,
     "metadata": {},
     "output_type": "execute_result"
    }
   ],
   "source": [
    "2**31"
   ]
  },
  {
   "cell_type": "code",
   "execution_count": 121,
   "metadata": {},
   "outputs": [
    {
     "data": {
      "text/plain": [
       "1563847412"
      ]
     },
     "execution_count": 121,
     "metadata": {},
     "output_type": "execute_result"
    }
   ],
   "source": [
    "1563847412"
   ]
  },
  {
   "cell_type": "code",
   "execution_count": 122,
   "metadata": {},
   "outputs": [
    {
     "data": {
      "text/plain": [
       "'IIII'"
      ]
     },
     "execution_count": 122,
     "metadata": {},
     "output_type": "execute_result"
    }
   ],
   "source": [
    "'I'*4"
   ]
  },
  {
   "cell_type": "code",
   "execution_count": 128,
   "metadata": {},
   "outputs": [],
   "source": [
    "def intToRoman(num) -> str:\n",
    "        \n",
    "    dic = {1:'I', 5:'V', 10:'X', 50: 'L', 100: 'C', 500:'D', 1000: 'M', 9:'IX',4:'IV', 40:'XL', 90:'XC', 400:'CD', 900:'CM' }\n",
    "        \n",
    "    lis = [1000,900,500,400,100,90,50,40,10,9,5,4,1]\n",
    "        \n",
    "    res = []\n",
    "    q = num\n",
    "        \n",
    "    for i in lis:\n",
    "            \n",
    "        qu = q//i\n",
    "        re = q%i\n",
    "        if qu!=0:\n",
    "            res.append(qu*dic[i])\n",
    "        q = re\n",
    "    \n",
    "    return ''.join(res)"
   ]
  },
  {
   "cell_type": "code",
   "execution_count": 131,
   "metadata": {},
   "outputs": [
    {
     "data": {
      "text/plain": [
       "'XXIX'"
      ]
     },
     "execution_count": 131,
     "metadata": {},
     "output_type": "execute_result"
    }
   ],
   "source": [
    "intToRoman(29)"
   ]
  },
  {
   "cell_type": "code",
   "execution_count": 218,
   "metadata": {},
   "outputs": [],
   "source": [
    "class Node: \n",
    "  \n",
    "    # Function to initialise the node object \n",
    "    def __init__(self, data): \n",
    "        self.data = data  # Assign data \n",
    "        self.next = None  # Initialize next as null \n",
    "  \n",
    "  \n",
    "# Linked List class contains a Node object \n",
    "class LinkedList: \n",
    "  \n",
    "    # Function to initialize head \n",
    "    def __init__(self): \n",
    "        self.head = None"
   ]
  },
  {
   "cell_type": "code",
   "execution_count": 219,
   "metadata": {},
   "outputs": [],
   "source": [
    "this = LinkedList()"
   ]
  },
  {
   "cell_type": "code",
   "execution_count": 229,
   "metadata": {},
   "outputs": [],
   "source": [
    "this.head = Node(4)\n",
    "this.head.next = Node(3)\n",
    "this.head.next.next = Node(2)\n",
    "this.head.next.next.next = Node(1)\n",
    "this.head.next.next.next.next = Node(2)\n",
    "this.head.next.next.next.next.next = Node(2)\n",
    "this.head.next.next.next.next.next.next= Node(4)\n",
    "this.head.next.next.next.next.next.next.next = None\n",
    "\n"
   ]
  },
  {
   "cell_type": "code",
   "execution_count": null,
   "metadata": {},
   "outputs": [],
   "source": [
    "\n",
    "    \n",
    "        "
   ]
  },
  {
   "cell_type": "code",
   "execution_count": 230,
   "metadata": {},
   "outputs": [],
   "source": [
    "def IfPalindrome(truehead):\n",
    "    size = 0\n",
    "    head = truehead\n",
    "    while head!=None:\n",
    "        size +=1\n",
    "        print(size)\n",
    "        head = head.next\n",
    "    \n",
    "\n",
    "    count = 1\n",
    "    current = truehead\n",
    "    prev = None\n",
    "\n",
    "\n",
    "    while(current):\n",
    "    \n",
    "        if count >= (size/2 + 1) :\n",
    "        \n",
    "            temp = current.next\n",
    "            current.next = prev\n",
    "            prev = current\n",
    "            tail = current\n",
    "            current = temp\n",
    "            count +=1\n",
    "            \n",
    "        else: \n",
    "            temp = current.next\n",
    "            prev = current\n",
    "            current = temp\n",
    "            count +=1\n",
    "    \n",
    "\n",
    "    current = truehead\n",
    "    count = 1\n",
    "    while (tail!=current and tail and current):\n",
    "        \n",
    "        if count == size:\n",
    "            break\n",
    "            \n",
    "        if tail.data == current.data:\n",
    "            print(tail.data,current.data)\n",
    "            current = current.next \n",
    "            tail = tail.next\n",
    "            count +=1\n",
    "    \n",
    "        else:\n",
    "            return False\n",
    "    \n",
    "    \n",
    "    return True\n"
   ]
  },
  {
   "cell_type": "code",
   "execution_count": 231,
   "metadata": {},
   "outputs": [
    {
     "name": "stdout",
     "output_type": "stream",
     "text": [
      "1\n",
      "2\n",
      "3\n",
      "4\n",
      "5\n",
      "6\n",
      "7\n",
      "4 4\n"
     ]
    },
    {
     "data": {
      "text/plain": [
       "False"
      ]
     },
     "execution_count": 231,
     "metadata": {},
     "output_type": "execute_result"
    }
   ],
   "source": [
    "IfPalindrome(this.head)"
   ]
  },
  {
   "cell_type": "code",
   "execution_count": 215,
   "metadata": {},
   "outputs": [
    {
     "ename": "NameError",
     "evalue": "name 'math' is not defined",
     "output_type": "error",
     "traceback": [
      "\u001b[0;31m---------------------------------------------------------------------------\u001b[0m",
      "\u001b[0;31mNameError\u001b[0m                                 Traceback (most recent call last)",
      "\u001b[0;32m<ipython-input-215-539dae16cdd8>\u001b[0m in \u001b[0;36m<module>\u001b[0;34m\u001b[0m\n\u001b[0;32m----> 1\u001b[0;31m \u001b[0mmath\u001b[0m\u001b[0;34m.\u001b[0m\u001b[0mfloor\u001b[0m\u001b[0;34m(\u001b[0m\u001b[0;36m3.6\u001b[0m\u001b[0;34m)\u001b[0m\u001b[0;34m\u001b[0m\u001b[0;34m\u001b[0m\u001b[0m\n\u001b[0m",
      "\u001b[0;31mNameError\u001b[0m: name 'math' is not defined"
     ]
    }
   ],
   "source": [
    "math.floor(3.6)"
   ]
  },
  {
   "cell_type": "code",
   "execution_count": 205,
   "metadata": {},
   "outputs": [
    {
     "data": {
      "text/plain": [
       "3.0"
      ]
     },
     "execution_count": 205,
     "metadata": {},
     "output_type": "execute_result"
    }
   ],
   "source": [
    "3.6//1"
   ]
  },
  {
   "cell_type": "code",
   "execution_count": 206,
   "metadata": {},
   "outputs": [
    {
     "data": {
      "text/plain": [
       "3"
      ]
     },
     "execution_count": 206,
     "metadata": {},
     "output_type": "execute_result"
    }
   ],
   "source": [
    "3//1"
   ]
  },
  {
   "cell_type": "code",
   "execution_count": null,
   "metadata": {},
   "outputs": [],
   "source": []
  }
 ],
 "metadata": {
  "kernelspec": {
   "display_name": "Python 3",
   "language": "python",
   "name": "python3"
  },
  "language_info": {
   "codemirror_mode": {
    "name": "ipython",
    "version": 3
   },
   "file_extension": ".py",
   "mimetype": "text/x-python",
   "name": "python",
   "nbconvert_exporter": "python",
   "pygments_lexer": "ipython3",
   "version": "3.7.3"
  }
 },
 "nbformat": 4,
 "nbformat_minor": 2
}
